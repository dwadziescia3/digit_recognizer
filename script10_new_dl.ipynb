{
 "cells": [
  {
   "cell_type": "markdown",
   "metadata": {},
   "source": [
    "This is the notebook of kaggle competition \"House Prices - Advanced Regression Techniques\"\n",
    "\n",
    "https://www.kaggle.com/c/house-prices-advanced-regression-techniques/overview/description"
   ]
  },
  {
   "cell_type": "code",
   "execution_count": 1,
   "metadata": {},
   "outputs": [
    {
     "name": "stdout",
     "output_type": "stream",
     "text": [
      "2.7.0\n",
      "2.7.0\n"
     ]
    }
   ],
   "source": [
    "import sys\n",
    "assert sys.version_info >= (3, 5)\n",
    "\n",
    "import sklearn\n",
    "assert sklearn.__version__ >= \"0.20\"\n",
    "\n",
    "import numpy as np\n",
    "import os\n",
    "\n",
    "import matplotlib as mpl\n",
    "import matplotlib.pyplot as plt\n",
    "mpl.rc('axes', labelsize=14)\n",
    "mpl.rc('xtick', labelsize=12)\n",
    "mpl.rc('ytick', labelsize=12)\n",
    "\n",
    "import warnings\n",
    "warnings.filterwarnings(action=\"ignore\", message=\"^internal gelsd\")\n",
    "\n",
    "import os, warnings\n",
    "import matplotlib.pyplot as plt\n",
    "from matplotlib import gridspec\n",
    "\n",
    "import numpy as np\n",
    "import tensorflow as tf\n",
    "from tensorflow import keras\n",
    "# from keras.utils import to_categorical\n",
    "from tensorflow.keras.utils import to_categorical\n",
    "from tensorflow.keras import layers\n",
    "print(keras.__version__)\n",
    "import tensorflow\n",
    "print(tensorflow.__version__)"
   ]
  },
  {
   "cell_type": "code",
   "execution_count": 2,
   "metadata": {},
   "outputs": [],
   "source": [
    "from tensorflow.keras.layers.experimental import preprocessing"
   ]
  },
  {
   "cell_type": "code",
   "execution_count": 3,
   "metadata": {},
   "outputs": [],
   "source": [
    "import pandas as pd\n",
    "\n",
    "def load_digits_data(digits_path='data'):\n",
    "    train_csv_path = os.path.join(digits_path, \"train.csv\")\n",
    "    test_csv_path = os.path.join(digits_path, \"test.csv\")\n",
    "    return pd.read_csv(train_csv_path), pd.read_csv(test_csv_path)\n",
    "\n",
    "train, test = load_digits_data()"
   ]
  },
  {
   "cell_type": "code",
   "execution_count": 4,
   "metadata": {},
   "outputs": [],
   "source": [
    "num_classes = 10\n",
    "input_shape = (28, 28, 1)"
   ]
  },
  {
   "cell_type": "code",
   "execution_count": 5,
   "metadata": {},
   "outputs": [],
   "source": [
    "y_train = train['label']"
   ]
  },
  {
   "cell_type": "code",
   "execution_count": 6,
   "metadata": {},
   "outputs": [],
   "source": [
    "from sklearn.preprocessing import StandardScaler\n",
    "scaler = StandardScaler()\n",
    "X_train = train.iloc[:, 1:]\n",
    "X_train_scaled = scaler.fit_transform(X_train.astype(np.float64))\n",
    "train = X_train_scaled.reshape(X_train_scaled.shape[0],28,28,1)\n",
    "test_scaled = scaler.transform(test.astype(np.float64))\n",
    "test = test_scaled.reshape(test_scaled.shape[0],28,28,1)"
   ]
  },
  {
   "cell_type": "code",
   "execution_count": null,
   "metadata": {},
   "outputs": [],
   "source": []
  },
  {
   "cell_type": "code",
   "execution_count": 7,
   "metadata": {},
   "outputs": [],
   "source": [
    "y_binary = to_categorical(y_train.values)"
   ]
  },
  {
   "cell_type": "code",
   "execution_count": null,
   "metadata": {},
   "outputs": [],
   "source": []
  },
  {
   "cell_type": "code",
   "execution_count": null,
   "metadata": {},
   "outputs": [],
   "source": []
  },
  {
   "cell_type": "code",
   "execution_count": 10,
   "metadata": {},
   "outputs": [],
   "source": [
    "model = keras.Sequential([\n",
    "    layers.InputLayer(input_shape=[28, 28, 1]),\n",
    "    \n",
    "#     preprocessing.RandomContrast(factor=0.10),\n",
    "#     preprocessing.RandomFlip(mode='horizontal'),\n",
    "    preprocessing.RandomRotation(factor=0.10),\n",
    "    \n",
    "    # Block One\n",
    "    layers.Conv2D(filters=32, kernel_size=3, activation='relu', padding='same',\n",
    "                  input_shape=[28, 28, 1]),\n",
    "    layers.Conv2D(filters=32, kernel_size=3, activation='relu', padding='same'),\n",
    "    layers.MaxPool2D(),\n",
    "\n",
    "    # Block Two\n",
    "    layers.Conv2D(filters=64, kernel_size=3, activation='relu', padding='same'),\n",
    "    layers.Conv2D(filters=64, kernel_size=3, activation='relu', padding='same'),\n",
    "    layers.MaxPool2D(),\n",
    "\n",
    "    # Block Three\n",
    "    layers.Conv2D(filters=128, kernel_size=3, activation='relu', padding='same'),\n",
    "    layers.Conv2D(filters=128, kernel_size=3, activation='relu', padding='same'),\n",
    "    layers.MaxPool2D(),\n",
    "\n",
    "    # Head\n",
    "    layers.Flatten(),\n",
    "    layers.Dense(50, activation='relu'),\n",
    "    layers.Dropout(0.5),\n",
    "    layers.Dense(num_classes, activation='softmax'),\n",
    "])\n"
   ]
  },
  {
   "cell_type": "code",
   "execution_count": 11,
   "metadata": {},
   "outputs": [
    {
     "name": "stdout",
     "output_type": "stream",
     "text": [
      "Model: \"sequential_1\"\n",
      "_________________________________________________________________\n",
      " Layer (type)                Output Shape              Param #   \n",
      "=================================================================\n",
      " random_rotation_1 (RandomRo  (None, 28, 28, 1)        0         \n",
      " tation)                                                         \n",
      "                                                                 \n",
      " conv2d_5 (Conv2D)           (None, 28, 28, 32)        320       \n",
      "                                                                 \n",
      " conv2d_6 (Conv2D)           (None, 28, 28, 32)        9248      \n",
      "                                                                 \n",
      " max_pooling2d_3 (MaxPooling  (None, 14, 14, 32)       0         \n",
      " 2D)                                                             \n",
      "                                                                 \n",
      " conv2d_7 (Conv2D)           (None, 14, 14, 64)        18496     \n",
      "                                                                 \n",
      " conv2d_8 (Conv2D)           (None, 14, 14, 64)        36928     \n",
      "                                                                 \n",
      " max_pooling2d_4 (MaxPooling  (None, 7, 7, 64)         0         \n",
      " 2D)                                                             \n",
      "                                                                 \n",
      " conv2d_9 (Conv2D)           (None, 7, 7, 128)         73856     \n",
      "                                                                 \n",
      " conv2d_10 (Conv2D)          (None, 7, 7, 128)         147584    \n",
      "                                                                 \n",
      " max_pooling2d_5 (MaxPooling  (None, 3, 3, 128)        0         \n",
      " 2D)                                                             \n",
      "                                                                 \n",
      " flatten_1 (Flatten)         (None, 1152)              0         \n",
      "                                                                 \n",
      " dense_2 (Dense)             (None, 50)                57650     \n",
      "                                                                 \n",
      " dropout_1 (Dropout)         (None, 50)                0         \n",
      "                                                                 \n",
      " dense_3 (Dense)             (None, 10)                510       \n",
      "                                                                 \n",
      "=================================================================\n",
      "Total params: 344,592\n",
      "Trainable params: 344,592\n",
      "Non-trainable params: 0\n",
      "_________________________________________________________________\n"
     ]
    }
   ],
   "source": [
    "model.summary()"
   ]
  },
  {
   "cell_type": "code",
   "execution_count": 12,
   "metadata": {},
   "outputs": [],
   "source": [
    "model.compile(\n",
    "    optimizer=tf.keras.optimizers.Adam(epsilon=0.01),\n",
    "    loss='categorical_crossentropy',\n",
    "    metrics=['categorical_accuracy'],\n",
    ")"
   ]
  },
  {
   "cell_type": "code",
   "execution_count": 13,
   "metadata": {
    "scrolled": true
   },
   "outputs": [
    {
     "name": "stdout",
     "output_type": "stream",
     "text": [
      "Epoch 1/50\n",
      "WARNING:tensorflow:AutoGraph could not transform <function Model.make_train_function.<locals>.train_function at 0x7f9790125cb0> and will run it as-is.\n",
      "Please report this to the TensorFlow team. When filing the bug, set the verbosity to 10 (on Linux, `export AUTOGRAPH_VERBOSITY=10`) and attach the full output.\n",
      "Cause: 'arguments' object has no attribute 'posonlyargs'\n",
      "To silence this warning, decorate the function with @tf.autograph.experimental.do_not_convert\n",
      "WARNING: AutoGraph could not transform <function Model.make_train_function.<locals>.train_function at 0x7f9790125cb0> and will run it as-is.\n",
      "Please report this to the TensorFlow team. When filing the bug, set the verbosity to 10 (on Linux, `export AUTOGRAPH_VERBOSITY=10`) and attach the full output.\n",
      "Cause: 'arguments' object has no attribute 'posonlyargs'\n",
      "To silence this warning, decorate the function with @tf.autograph.experimental.do_not_convert\n",
      "295/296 [============================>.] - ETA: 0s - loss: 1.7561 - categorical_accuracy: 0.3970WARNING:tensorflow:AutoGraph could not transform <function Model.make_test_function.<locals>.test_function at 0x7f9709742b90> and will run it as-is.\n",
      "Please report this to the TensorFlow team. When filing the bug, set the verbosity to 10 (on Linux, `export AUTOGRAPH_VERBOSITY=10`) and attach the full output.\n",
      "Cause: 'arguments' object has no attribute 'posonlyargs'\n",
      "To silence this warning, decorate the function with @tf.autograph.experimental.do_not_convert\n",
      "WARNING: AutoGraph could not transform <function Model.make_test_function.<locals>.test_function at 0x7f9709742b90> and will run it as-is.\n",
      "Please report this to the TensorFlow team. When filing the bug, set the verbosity to 10 (on Linux, `export AUTOGRAPH_VERBOSITY=10`) and attach the full output.\n",
      "Cause: 'arguments' object has no attribute 'posonlyargs'\n",
      "To silence this warning, decorate the function with @tf.autograph.experimental.do_not_convert\n",
      "296/296 [==============================] - 40s 133ms/step - loss: 1.7554 - categorical_accuracy: 0.3972 - val_loss: 0.4567 - val_categorical_accuracy: 0.8676\n",
      "Epoch 2/50\n",
      "296/296 [==============================] - 35s 118ms/step - loss: 0.6281 - categorical_accuracy: 0.8047 - val_loss: 0.1693 - val_categorical_accuracy: 0.9467\n",
      "Epoch 3/50\n",
      "296/296 [==============================] - 36s 121ms/step - loss: 0.3735 - categorical_accuracy: 0.8853 - val_loss: 0.1140 - val_categorical_accuracy: 0.9645\n",
      "Epoch 4/50\n",
      "296/296 [==============================] - 41s 137ms/step - loss: 0.2683 - categorical_accuracy: 0.9187 - val_loss: 0.0827 - val_categorical_accuracy: 0.9745\n",
      "Epoch 5/50\n",
      "296/296 [==============================] - 38s 127ms/step - loss: 0.2039 - categorical_accuracy: 0.9390 - val_loss: 0.0638 - val_categorical_accuracy: 0.9783\n",
      "Epoch 6/50\n",
      "296/296 [==============================] - 37s 125ms/step - loss: 0.1770 - categorical_accuracy: 0.9472 - val_loss: 0.0558 - val_categorical_accuracy: 0.9807\n",
      "Epoch 7/50\n",
      "296/296 [==============================] - 37s 125ms/step - loss: 0.1571 - categorical_accuracy: 0.9543 - val_loss: 0.0500 - val_categorical_accuracy: 0.9829\n",
      "Epoch 8/50\n",
      "296/296 [==============================] - 35s 120ms/step - loss: 0.1326 - categorical_accuracy: 0.9613 - val_loss: 0.0551 - val_categorical_accuracy: 0.9840\n",
      "Epoch 9/50\n",
      "296/296 [==============================] - 36s 121ms/step - loss: 0.1209 - categorical_accuracy: 0.9647 - val_loss: 0.0454 - val_categorical_accuracy: 0.9843\n",
      "Epoch 10/50\n",
      "296/296 [==============================] - 36s 122ms/step - loss: 0.1130 - categorical_accuracy: 0.9672 - val_loss: 0.0357 - val_categorical_accuracy: 0.9864\n",
      "Epoch 11/50\n",
      "296/296 [==============================] - 38s 128ms/step - loss: 0.1045 - categorical_accuracy: 0.9693 - val_loss: 0.0391 - val_categorical_accuracy: 0.9883\n",
      "Epoch 12/50\n",
      "296/296 [==============================] - 37s 126ms/step - loss: 0.0940 - categorical_accuracy: 0.9730 - val_loss: 0.0330 - val_categorical_accuracy: 0.9881\n",
      "Epoch 13/50\n",
      "296/296 [==============================] - 36s 121ms/step - loss: 0.0877 - categorical_accuracy: 0.9740 - val_loss: 0.0362 - val_categorical_accuracy: 0.9883\n",
      "Epoch 14/50\n",
      "296/296 [==============================] - 36s 123ms/step - loss: 0.0872 - categorical_accuracy: 0.9745 - val_loss: 0.0384 - val_categorical_accuracy: 0.9876\n",
      "Epoch 15/50\n",
      "296/296 [==============================] - 36s 123ms/step - loss: 0.0815 - categorical_accuracy: 0.9757 - val_loss: 0.0283 - val_categorical_accuracy: 0.9898\n",
      "Epoch 16/50\n",
      "296/296 [==============================] - 38s 130ms/step - loss: 0.0755 - categorical_accuracy: 0.9774 - val_loss: 0.0298 - val_categorical_accuracy: 0.9886\n",
      "Epoch 17/50\n",
      "296/296 [==============================] - 37s 126ms/step - loss: 0.0658 - categorical_accuracy: 0.9806 - val_loss: 0.0319 - val_categorical_accuracy: 0.9893\n",
      "Epoch 18/50\n",
      "296/296 [==============================] - 39s 132ms/step - loss: 0.0696 - categorical_accuracy: 0.9803 - val_loss: 0.0315 - val_categorical_accuracy: 0.9886\n",
      "Epoch 19/50\n",
      "296/296 [==============================] - 76s 255ms/step - loss: 0.0688 - categorical_accuracy: 0.9801 - val_loss: 0.0297 - val_categorical_accuracy: 0.9907\n",
      "Epoch 20/50\n",
      "296/296 [==============================] - 37s 124ms/step - loss: 0.0604 - categorical_accuracy: 0.9819 - val_loss: 0.0213 - val_categorical_accuracy: 0.9919\n",
      "Epoch 21/50\n",
      "296/296 [==============================] - 37s 125ms/step - loss: 0.0568 - categorical_accuracy: 0.9835 - val_loss: 0.0207 - val_categorical_accuracy: 0.9938\n",
      "Epoch 22/50\n",
      "296/296 [==============================] - 38s 128ms/step - loss: 0.0572 - categorical_accuracy: 0.9822 - val_loss: 0.0208 - val_categorical_accuracy: 0.9933\n",
      "Epoch 23/50\n",
      "296/296 [==============================] - 57s 192ms/step - loss: 0.0565 - categorical_accuracy: 0.9843 - val_loss: 0.0259 - val_categorical_accuracy: 0.9917\n",
      "Epoch 24/50\n",
      "296/296 [==============================] - 36s 123ms/step - loss: 0.0554 - categorical_accuracy: 0.9840 - val_loss: 0.0307 - val_categorical_accuracy: 0.9902\n",
      "Epoch 25/50\n",
      "296/296 [==============================] - 37s 123ms/step - loss: 0.0525 - categorical_accuracy: 0.9843 - val_loss: 0.0235 - val_categorical_accuracy: 0.9919\n",
      "Epoch 26/50\n",
      "296/296 [==============================] - 36s 122ms/step - loss: 0.0496 - categorical_accuracy: 0.9861 - val_loss: 0.0269 - val_categorical_accuracy: 0.9914\n",
      "Epoch 27/50\n",
      "296/296 [==============================] - 59s 200ms/step - loss: 0.0473 - categorical_accuracy: 0.9856 - val_loss: 0.0302 - val_categorical_accuracy: 0.9912\n",
      "Epoch 28/50\n",
      "296/296 [==============================] - 36s 122ms/step - loss: 0.0443 - categorical_accuracy: 0.9871 - val_loss: 0.0247 - val_categorical_accuracy: 0.9919\n",
      "Epoch 29/50\n",
      "296/296 [==============================] - 36s 122ms/step - loss: 0.0448 - categorical_accuracy: 0.9872 - val_loss: 0.0316 - val_categorical_accuracy: 0.9902\n",
      "Epoch 30/50\n",
      "296/296 [==============================] - 39s 130ms/step - loss: 0.0410 - categorical_accuracy: 0.9879 - val_loss: 0.0386 - val_categorical_accuracy: 0.9924\n",
      "Epoch 31/50\n",
      "296/296 [==============================] - 55s 184ms/step - loss: 0.0414 - categorical_accuracy: 0.9873 - val_loss: 0.0318 - val_categorical_accuracy: 0.9914\n",
      "Epoch 32/50\n",
      "296/296 [==============================] - 36s 122ms/step - loss: 0.0416 - categorical_accuracy: 0.9875 - val_loss: 0.0204 - val_categorical_accuracy: 0.9938\n",
      "Epoch 33/50\n",
      "296/296 [==============================] - 36s 122ms/step - loss: 0.0392 - categorical_accuracy: 0.9881 - val_loss: 0.0187 - val_categorical_accuracy: 0.9940\n",
      "Epoch 34/50\n",
      "296/296 [==============================] - 55s 186ms/step - loss: 0.0355 - categorical_accuracy: 0.9888 - val_loss: 0.0248 - val_categorical_accuracy: 0.9936\n",
      "Epoch 35/50\n",
      "296/296 [==============================] - 36s 122ms/step - loss: 0.0344 - categorical_accuracy: 0.9898 - val_loss: 0.0258 - val_categorical_accuracy: 0.9914\n",
      "Epoch 36/50\n",
      "296/296 [==============================] - 36s 122ms/step - loss: 0.0346 - categorical_accuracy: 0.9897 - val_loss: 0.0297 - val_categorical_accuracy: 0.9921\n",
      "Epoch 37/50\n",
      "296/296 [==============================] - 41s 137ms/step - loss: 0.0342 - categorical_accuracy: 0.9895 - val_loss: 0.0183 - val_categorical_accuracy: 0.9940\n"
     ]
    },
    {
     "name": "stdout",
     "output_type": "stream",
     "text": [
      "Epoch 38/50\n",
      "296/296 [==============================] - 55s 184ms/step - loss: 0.0336 - categorical_accuracy: 0.9897 - val_loss: 0.0225 - val_categorical_accuracy: 0.9933\n",
      "Epoch 39/50\n",
      "296/296 [==============================] - 36s 121ms/step - loss: 0.0337 - categorical_accuracy: 0.9899 - val_loss: 0.0233 - val_categorical_accuracy: 0.9936\n",
      "Epoch 40/50\n",
      "296/296 [==============================] - 36s 121ms/step - loss: 0.0335 - categorical_accuracy: 0.9901 - val_loss: 0.0270 - val_categorical_accuracy: 0.9933\n",
      "Epoch 41/50\n",
      "296/296 [==============================] - 60s 203ms/step - loss: 0.0310 - categorical_accuracy: 0.9904 - val_loss: 0.0239 - val_categorical_accuracy: 0.9936\n",
      "Epoch 42/50\n",
      "296/296 [==============================] - 36s 121ms/step - loss: 0.0309 - categorical_accuracy: 0.9906 - val_loss: 0.0198 - val_categorical_accuracy: 0.9926\n",
      "Epoch 43/50\n",
      "296/296 [==============================] - 36s 121ms/step - loss: 0.0302 - categorical_accuracy: 0.9908 - val_loss: 0.0217 - val_categorical_accuracy: 0.9936\n",
      "Epoch 44/50\n",
      "296/296 [==============================] - 36s 122ms/step - loss: 0.0306 - categorical_accuracy: 0.9903 - val_loss: 0.0194 - val_categorical_accuracy: 0.9948\n",
      "Epoch 45/50\n",
      "296/296 [==============================] - 60s 202ms/step - loss: 0.0260 - categorical_accuracy: 0.9917 - val_loss: 0.0268 - val_categorical_accuracy: 0.9929\n",
      "Epoch 46/50\n",
      "296/296 [==============================] - 36s 121ms/step - loss: 0.0281 - categorical_accuracy: 0.9911 - val_loss: 0.0186 - val_categorical_accuracy: 0.9931\n",
      "Epoch 47/50\n",
      "296/296 [==============================] - 36s 121ms/step - loss: 0.0249 - categorical_accuracy: 0.9925 - val_loss: 0.0230 - val_categorical_accuracy: 0.9940\n",
      "Epoch 48/50\n",
      "296/296 [==============================] - 47s 159ms/step - loss: 0.0282 - categorical_accuracy: 0.9914 - val_loss: 0.0214 - val_categorical_accuracy: 0.9938\n",
      "Epoch 49/50\n",
      "296/296 [==============================] - 48s 162ms/step - loss: 0.0261 - categorical_accuracy: 0.9916 - val_loss: 0.0272 - val_categorical_accuracy: 0.9924\n",
      "Epoch 50/50\n",
      "296/296 [==============================] - 36s 121ms/step - loss: 0.0245 - categorical_accuracy: 0.9925 - val_loss: 0.0255 - val_categorical_accuracy: 0.9921\n"
     ]
    }
   ],
   "source": [
    "batch_size = 128\n",
    "epochs = 50\n",
    "\n",
    "# model.compile(loss=\"categorical_crossentropy\", optimizer=\"adam\", metrics=[\"accuracy\"])\n",
    "\n",
    "history = model.fit(train, y_binary, batch_size=batch_size, epochs=epochs, validation_split=0.1)\n"
   ]
  },
  {
   "cell_type": "code",
   "execution_count": 18,
   "metadata": {},
   "outputs": [
    {
     "data": {
      "text/plain": [
       "(0.95, 1.01)"
      ]
     },
     "execution_count": 18,
     "metadata": {},
     "output_type": "execute_result"
    },
    {
     "data": {
      "image/png": "[encoded data removed]",
      "text/plain": [
       "<Figure size 432x288 with 1 Axes>"
      ]
     },
     "metadata": {
      "needs_background": "light"
     },
     "output_type": "display_data"
    },
    {
     "data": {
      "image/png": "[encoded data removed]",
      "text/plain": [
       "<Figure size 432x288 with 1 Axes>"
      ]
     },
     "metadata": {
      "needs_background": "light"
     },
     "output_type": "display_data"
    }
   ],
   "source": [
    "import pandas as pd\n",
    "history_frame = pd.DataFrame(history.history)\n",
    "history_frame.loc[:, ['loss', 'val_loss']].plot()\n",
    "history_frame.loc[:, ['categorical_accuracy', 'val_categorical_accuracy']].plot()\n",
    "plt.ylim([0.95, 1.01])"
   ]
  },
  {
   "cell_type": "code",
   "execution_count": 19,
   "metadata": {},
   "outputs": [
    {
     "name": "stdout",
     "output_type": "stream",
     "text": [
      "WARNING:tensorflow:AutoGraph could not transform <function Model.make_predict_function.<locals>.predict_function at 0x7f96e81380e0> and will run it as-is.\n",
      "Please report this to the TensorFlow team. When filing the bug, set the verbosity to 10 (on Linux, `export AUTOGRAPH_VERBOSITY=10`) and attach the full output.\n",
      "Cause: 'arguments' object has no attribute 'posonlyargs'\n",
      "To silence this warning, decorate the function with @tf.autograph.experimental.do_not_convert\n",
      "WARNING: AutoGraph could not transform <function Model.make_predict_function.<locals>.predict_function at 0x7f96e81380e0> and will run it as-is.\n",
      "Please report this to the TensorFlow team. When filing the bug, set the verbosity to 10 (on Linux, `export AUTOGRAPH_VERBOSITY=10`) and attach the full output.\n",
      "Cause: 'arguments' object has no attribute 'posonlyargs'\n",
      "To silence this warning, decorate the function with @tf.autograph.experimental.do_not_convert\n"
     ]
    }
   ],
   "source": [
    "predictions = model.predict(test)"
   ]
  },
  {
   "cell_type": "code",
   "execution_count": 20,
   "metadata": {},
   "outputs": [],
   "source": [
    "predictions_cat = predictions.argmax(axis=1)"
   ]
  },
  {
   "cell_type": "code",
   "execution_count": 21,
   "metadata": {},
   "outputs": [
    {
     "data": {
      "text/plain": [
       "(28000,)"
      ]
     },
     "execution_count": 21,
     "metadata": {},
     "output_type": "execute_result"
    }
   ],
   "source": [
    "predictions_cat.shape"
   ]
  },
  {
   "cell_type": "code",
   "execution_count": null,
   "metadata": {},
   "outputs": [],
   "source": []
  },
  {
   "cell_type": "code",
   "execution_count": null,
   "metadata": {},
   "outputs": [],
   "source": []
  },
  {
   "cell_type": "code",
   "execution_count": 22,
   "metadata": {},
   "outputs": [
    {
     "data": {
      "text/plain": [
       "(28000, 2)"
      ]
     },
     "execution_count": 22,
     "metadata": {},
     "output_type": "execute_result"
    }
   ],
   "source": [
    "sub = pd.DataFrame({'ImageId': list(range(1, len(predictions_cat)+1)), 'Label': predictions_cat})\n",
    "sub.shape"
   ]
  },
  {
   "cell_type": "code",
   "execution_count": 23,
   "metadata": {},
   "outputs": [],
   "source": [
    "sub.to_csv(\"data/submission_script10_new_dl.csv\", index=False)"
   ]
  },
  {
   "cell_type": "code",
   "execution_count": null,
   "metadata": {},
   "outputs": [],
   "source": []
  }
 ],
 "metadata": {
  "kernelspec": {
   "display_name": "Python 3",
   "language": "python",
   "name": "python3"
  },
  "language_info": {
   "codemirror_mode": {
    "name": "ipython",
    "version": 3
   },
   "file_extension": ".py",
   "mimetype": "text/x-python",
   "name": "python",
   "nbconvert_exporter": "python",
   "pygments_lexer": "ipython3",
   "version": "3.7.4"
  }
 },
 "nbformat": 4,
 "nbformat_minor": 2
}
