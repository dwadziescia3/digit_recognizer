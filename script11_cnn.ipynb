{
 "cells": [
  {
   "cell_type": "markdown",
   "metadata": {},
   "source": [
    "This is the notebook of kaggle competition \"House Prices - Advanced Regression Techniques\"\n",
    "\n",
    "https://www.kaggle.com/c/house-prices-advanced-regression-techniques/overview/description"
   ]
  },
  {
   "cell_type": "code",
   "execution_count": 1,
   "metadata": {},
   "outputs": [
    {
     "name": "stdout",
     "output_type": "stream",
     "text": [
      "2.7.0\n",
      "2.7.0\n"
     ]
    }
   ],
   "source": [
    "import sys\n",
    "assert sys.version_info >= (3, 5)\n",
    "\n",
    "import sklearn\n",
    "assert sklearn.__version__ >= \"0.20\"\n",
    "\n",
    "import numpy as np\n",
    "import os\n",
    "\n",
    "import matplotlib as mpl\n",
    "import matplotlib.pyplot as plt\n",
    "mpl.rc('axes', labelsize=14)\n",
    "mpl.rc('xtick', labelsize=12)\n",
    "mpl.rc('ytick', labelsize=12)\n",
    "\n",
    "import warnings\n",
    "warnings.filterwarnings(action=\"ignore\", message=\"^internal gelsd\")\n",
    "\n",
    "import os, warnings\n",
    "import matplotlib.pyplot as plt\n",
    "from matplotlib import gridspec\n",
    "\n",
    "import numpy as np\n",
    "import tensorflow as tf\n",
    "from tensorflow import keras\n",
    "# from keras.utils import to_categorical\n",
    "from tensorflow.keras.utils import to_categorical\n",
    "from tensorflow.keras import layers\n",
    "print(keras.__version__)\n",
    "import tensorflow\n",
    "print(tensorflow.__version__)"
   ]
  },
  {
   "cell_type": "code",
   "execution_count": 2,
   "metadata": {},
   "outputs": [],
   "source": [
    "from tensorflow.keras.layers.experimental import preprocessing"
   ]
  },
  {
   "cell_type": "code",
   "execution_count": 3,
   "metadata": {},
   "outputs": [],
   "source": [
    "import pandas as pd\n",
    "\n",
    "def load_digits_data(digits_path='data'):\n",
    "    train_csv_path = os.path.join(digits_path, \"train.csv\")\n",
    "    test_csv_path = os.path.join(digits_path, \"test.csv\")\n",
    "    return pd.read_csv(train_csv_path), pd.read_csv(test_csv_path)\n",
    "\n",
    "train, test = load_digits_data()"
   ]
  },
  {
   "cell_type": "code",
   "execution_count": 4,
   "metadata": {},
   "outputs": [],
   "source": [
    "num_classes = 10\n",
    "input_shape = (28, 28, 1)"
   ]
  },
  {
   "cell_type": "code",
   "execution_count": 5,
   "metadata": {},
   "outputs": [],
   "source": [
    "y_train = train['label']"
   ]
  },
  {
   "cell_type": "code",
   "execution_count": 6,
   "metadata": {},
   "outputs": [],
   "source": [
    "from sklearn.preprocessing import StandardScaler\n",
    "scaler = StandardScaler()\n",
    "X_train = train.iloc[:, 1:]\n",
    "X_train_scaled = scaler.fit_transform(X_train.astype(np.float64))\n",
    "train = X_train_scaled.reshape(X_train_scaled.shape[0],28,28,1)\n",
    "test_scaled = scaler.transform(test.astype(np.float64))\n",
    "test = test_scaled.reshape(test_scaled.shape[0],28,28,1)"
   ]
  },
  {
   "cell_type": "code",
   "execution_count": null,
   "metadata": {},
   "outputs": [],
   "source": []
  },
  {
   "cell_type": "code",
   "execution_count": 7,
   "metadata": {},
   "outputs": [],
   "source": [
    "y_binary = to_categorical(y_train.values)"
   ]
  },
  {
   "cell_type": "code",
   "execution_count": null,
   "metadata": {},
   "outputs": [],
   "source": []
  },
  {
   "cell_type": "code",
   "execution_count": null,
   "metadata": {},
   "outputs": [],
   "source": []
  },
  {
   "cell_type": "code",
   "execution_count": 20,
   "metadata": {},
   "outputs": [],
   "source": [
    "model = keras.Sequential([\n",
    "    layers.InputLayer(input_shape=[28, 28, 1]),\n",
    "    \n",
    "    preprocessing.RandomContrast(factor=0.10),\n",
    "#     preprocessing.RandomFlip(mode='horizontal'),\n",
    "#     preprocessing.RandomRotation(factor=0.10),\n",
    "    \n",
    "    # Block One\n",
    "    layers.Conv2D(filters=32, kernel_size=3, activation='relu', padding='same',\n",
    "                  input_shape=[28, 28, 1]),\n",
    "    layers.Conv2D(filters=32, kernel_size=3, activation='relu', padding='same'),\n",
    "    layers.MaxPool2D(),\n",
    "\n",
    "    # Block Two\n",
    "    layers.Conv2D(filters=64, kernel_size=3, activation='relu', padding='same'),\n",
    "    layers.Conv2D(filters=64, kernel_size=3, activation='relu', padding='same'),\n",
    "    layers.MaxPool2D(),\n",
    "\n",
    "    # Block Three\n",
    "    layers.Conv2D(filters=128, kernel_size=3, activation='relu', padding='same'),\n",
    "    layers.Conv2D(filters=128, kernel_size=3, activation='relu', padding='same'),\n",
    "    layers.MaxPool2D(),\n",
    "\n",
    "        # Block Three\n",
    "    layers.Conv2D(filters=128, kernel_size=3, activation='relu', padding='same'),\n",
    "    layers.Conv2D(filters=128, kernel_size=3, activation='relu', padding='same'),\n",
    "    layers.MaxPool2D(),\n",
    "\n",
    "    # Head\n",
    "    layers.Flatten(),\n",
    "    layers.Dense(256, activation='relu'),\n",
    "    layers.Dropout(0.5),\n",
    "    layers.Dense(num_classes, activation='softmax'),\n",
    "])\n"
   ]
  },
  {
   "cell_type": "code",
   "execution_count": 21,
   "metadata": {},
   "outputs": [
    {
     "name": "stdout",
     "output_type": "stream",
     "text": [
      "Model: \"sequential_1\"\n",
      "_________________________________________________________________\n",
      " Layer (type)                Output Shape              Param #   \n",
      "=================================================================\n",
      " random_contrast (RandomCont  (None, 28, 28, 1)        0         \n",
      " rast)                                                           \n",
      "                                                                 \n",
      " conv2d_8 (Conv2D)           (None, 28, 28, 32)        320       \n",
      "                                                                 \n",
      " conv2d_9 (Conv2D)           (None, 28, 28, 32)        9248      \n",
      "                                                                 \n",
      " max_pooling2d_4 (MaxPooling  (None, 14, 14, 32)       0         \n",
      " 2D)                                                             \n",
      "                                                                 \n",
      " conv2d_10 (Conv2D)          (None, 14, 14, 64)        18496     \n",
      "                                                                 \n",
      " conv2d_11 (Conv2D)          (None, 14, 14, 64)        36928     \n",
      "                                                                 \n",
      " max_pooling2d_5 (MaxPooling  (None, 7, 7, 64)         0         \n",
      " 2D)                                                             \n",
      "                                                                 \n",
      " conv2d_12 (Conv2D)          (None, 7, 7, 128)         73856     \n",
      "                                                                 \n",
      " conv2d_13 (Conv2D)          (None, 7, 7, 128)         147584    \n",
      "                                                                 \n",
      " max_pooling2d_6 (MaxPooling  (None, 3, 3, 128)        0         \n",
      " 2D)                                                             \n",
      "                                                                 \n",
      " conv2d_14 (Conv2D)          (None, 3, 3, 128)         147584    \n",
      "                                                                 \n",
      " conv2d_15 (Conv2D)          (None, 3, 3, 128)         147584    \n",
      "                                                                 \n",
      " max_pooling2d_7 (MaxPooling  (None, 1, 1, 128)        0         \n",
      " 2D)                                                             \n",
      "                                                                 \n",
      " flatten_1 (Flatten)         (None, 128)               0         \n",
      "                                                                 \n",
      " dense_2 (Dense)             (None, 256)               33024     \n",
      "                                                                 \n",
      " dropout_1 (Dropout)         (None, 256)               0         \n",
      "                                                                 \n",
      " dense_3 (Dense)             (None, 10)                2570      \n",
      "                                                                 \n",
      "=================================================================\n",
      "Total params: 617,194\n",
      "Trainable params: 617,194\n",
      "Non-trainable params: 0\n",
      "_________________________________________________________________\n"
     ]
    }
   ],
   "source": [
    "model.summary()"
   ]
  },
  {
   "cell_type": "code",
   "execution_count": 22,
   "metadata": {},
   "outputs": [],
   "source": [
    "model.compile(\n",
    "    optimizer=tf.keras.optimizers.Adam(epsilon=0.01),\n",
    "    loss='categorical_crossentropy',\n",
    "    metrics=['categorical_accuracy'],\n",
    ")"
   ]
  },
  {
   "cell_type": "code",
   "execution_count": 12,
   "metadata": {},
   "outputs": [],
   "source": [
    "from keras.callbacks import EarlyStopping\n",
    "\n",
    "early_stopping = EarlyStopping(min_delta=0.001, patience=5, restore_best_weights=True)"
   ]
  },
  {
   "cell_type": "code",
   "execution_count": 13,
   "metadata": {
    "scrolled": true
   },
   "outputs": [
    {
     "name": "stdout",
     "output_type": "stream",
     "text": [
      "Epoch 1/50\n",
      "WARNING:tensorflow:AutoGraph could not transform <function Model.make_train_function.<locals>.train_function at 0x7f85fa8f3b00> and will run it as-is.\n",
      "Please report this to the TensorFlow team. When filing the bug, set the verbosity to 10 (on Linux, `export AUTOGRAPH_VERBOSITY=10`) and attach the full output.\n",
      "Cause: 'arguments' object has no attribute 'posonlyargs'\n",
      "To silence this warning, decorate the function with @tf.autograph.experimental.do_not_convert\n",
      "WARNING: AutoGraph could not transform <function Model.make_train_function.<locals>.train_function at 0x7f85fa8f3b00> and will run it as-is.\n",
      "Please report this to the TensorFlow team. When filing the bug, set the verbosity to 10 (on Linux, `export AUTOGRAPH_VERBOSITY=10`) and attach the full output.\n",
      "Cause: 'arguments' object has no attribute 'posonlyargs'\n",
      "To silence this warning, decorate the function with @tf.autograph.experimental.do_not_convert\n",
      "590/591 [============================>.] - ETA: 0s - loss: 1.5194 - categorical_accuracy: 0.4725WARNING:tensorflow:AutoGraph could not transform <function Model.make_test_function.<locals>.test_function at 0x7f85e84d6d40> and will run it as-is.\n",
      "Please report this to the TensorFlow team. When filing the bug, set the verbosity to 10 (on Linux, `export AUTOGRAPH_VERBOSITY=10`) and attach the full output.\n",
      "Cause: 'arguments' object has no attribute 'posonlyargs'\n",
      "To silence this warning, decorate the function with @tf.autograph.experimental.do_not_convert\n",
      "WARNING: AutoGraph could not transform <function Model.make_test_function.<locals>.test_function at 0x7f85e84d6d40> and will run it as-is.\n",
      "Please report this to the TensorFlow team. When filing the bug, set the verbosity to 10 (on Linux, `export AUTOGRAPH_VERBOSITY=10`) and attach the full output.\n",
      "Cause: 'arguments' object has no attribute 'posonlyargs'\n",
      "To silence this warning, decorate the function with @tf.autograph.experimental.do_not_convert\n",
      "591/591 [==============================] - 40s 67ms/step - loss: 1.5182 - categorical_accuracy: 0.4730 - val_loss: 0.2938 - val_categorical_accuracy: 0.9090\n",
      "Epoch 2/50\n",
      "591/591 [==============================] - 40s 68ms/step - loss: 0.2632 - categorical_accuracy: 0.9213 - val_loss: 0.0981 - val_categorical_accuracy: 0.9667\n",
      "Epoch 3/50\n",
      "591/591 [==============================] - 41s 70ms/step - loss: 0.1447 - categorical_accuracy: 0.9569 - val_loss: 0.1014 - val_categorical_accuracy: 0.9702\n",
      "Epoch 4/50\n",
      "591/591 [==============================] - 42s 71ms/step - loss: 0.1086 - categorical_accuracy: 0.9685 - val_loss: 0.0604 - val_categorical_accuracy: 0.9805\n",
      "Epoch 5/50\n",
      "591/591 [==============================] - 43s 73ms/step - loss: 0.0844 - categorical_accuracy: 0.9747 - val_loss: 0.0634 - val_categorical_accuracy: 0.9807\n",
      "Epoch 6/50\n",
      "591/591 [==============================] - 41s 69ms/step - loss: 0.0685 - categorical_accuracy: 0.9799 - val_loss: 0.0442 - val_categorical_accuracy: 0.9852\n",
      "Epoch 7/50\n",
      "591/591 [==============================] - 42s 71ms/step - loss: 0.0596 - categorical_accuracy: 0.9824 - val_loss: 0.0345 - val_categorical_accuracy: 0.9888\n",
      "Epoch 8/50\n",
      "591/591 [==============================] - 42s 71ms/step - loss: 0.0503 - categorical_accuracy: 0.9851 - val_loss: 0.0321 - val_categorical_accuracy: 0.9902\n",
      "Epoch 9/50\n",
      "591/591 [==============================] - 44s 75ms/step - loss: 0.0483 - categorical_accuracy: 0.9862 - val_loss: 0.0392 - val_categorical_accuracy: 0.9876\n",
      "Epoch 10/50\n",
      "591/591 [==============================] - 45s 76ms/step - loss: 0.0448 - categorical_accuracy: 0.9870 - val_loss: 0.0314 - val_categorical_accuracy: 0.9898\n",
      "Epoch 11/50\n",
      "591/591 [==============================] - 46s 77ms/step - loss: 0.0404 - categorical_accuracy: 0.9872 - val_loss: 0.0296 - val_categorical_accuracy: 0.9907\n",
      "Epoch 12/50\n",
      "591/591 [==============================] - 43s 72ms/step - loss: 0.0354 - categorical_accuracy: 0.9892 - val_loss: 0.0335 - val_categorical_accuracy: 0.9895\n",
      "Epoch 13/50\n",
      "591/591 [==============================] - 65s 110ms/step - loss: 0.0339 - categorical_accuracy: 0.9901 - val_loss: 0.0364 - val_categorical_accuracy: 0.9893\n",
      "Epoch 14/50\n",
      "591/591 [==============================] - 42s 71ms/step - loss: 0.0288 - categorical_accuracy: 0.9915 - val_loss: 0.0324 - val_categorical_accuracy: 0.9893\n",
      "Epoch 15/50\n",
      "591/591 [==============================] - 41s 70ms/step - loss: 0.0298 - categorical_accuracy: 0.9913 - val_loss: 0.0283 - val_categorical_accuracy: 0.9917\n",
      "Epoch 16/50\n",
      "591/591 [==============================] - 41s 70ms/step - loss: 0.0256 - categorical_accuracy: 0.9925 - val_loss: 0.0295 - val_categorical_accuracy: 0.9910\n",
      "Epoch 17/50\n",
      "591/591 [==============================] - 64s 109ms/step - loss: 0.0254 - categorical_accuracy: 0.9923 - val_loss: 0.0222 - val_categorical_accuracy: 0.9929\n",
      "Epoch 18/50\n",
      "591/591 [==============================] - 42s 72ms/step - loss: 0.0227 - categorical_accuracy: 0.9926 - val_loss: 0.0359 - val_categorical_accuracy: 0.9893\n",
      "Epoch 19/50\n",
      "591/591 [==============================] - 45s 76ms/step - loss: 0.0215 - categorical_accuracy: 0.9934 - val_loss: 0.0282 - val_categorical_accuracy: 0.9931\n",
      "Epoch 20/50\n",
      "591/591 [==============================] - 63s 106ms/step - loss: 0.0208 - categorical_accuracy: 0.9940 - val_loss: 0.0268 - val_categorical_accuracy: 0.9929\n",
      "Epoch 21/50\n",
      "591/591 [==============================] - 55s 93ms/step - loss: 0.0196 - categorical_accuracy: 0.9941 - val_loss: 0.0310 - val_categorical_accuracy: 0.9924\n",
      "Epoch 22/50\n",
      "591/591 [==============================] - 45s 75ms/step - loss: 0.0201 - categorical_accuracy: 0.9945 - val_loss: 0.0275 - val_categorical_accuracy: 0.9924\n"
     ]
    }
   ],
   "source": [
    "batch_size = 64\n",
    "epochs = 50\n",
    "\n",
    "# model.compile(loss=\"categorical_crossentropy\", optimizer=\"adam\", metrics=[\"accuracy\"])\n",
    "\n",
    "history = model.fit(train, \n",
    "                    y_binary, \n",
    "                    batch_size=batch_size, \n",
    "                    epochs=epochs, \n",
    "                    callbacks=[early_stopping], \n",
    "                    validation_split=0.1)\n"
   ]
  },
  {
   "cell_type": "code",
   "execution_count": 14,
   "metadata": {},
   "outputs": [
    {
     "data": {
      "text/plain": [
       "(0.95, 1.01)"
      ]
     },
     "execution_count": 14,
     "metadata": {},
     "output_type": "execute_result"
    },
    {
     "data": {
      "image/png": "[encoded data removed]",
      "text/plain": [
       "<Figure size 432x288 with 1 Axes>"
      ]
     },
     "metadata": {
      "needs_background": "light"
     },
     "output_type": "display_data"
    },
    {
     "data": {
      "image/png": "[encoded data removed]",
      "text/plain": [
       "<Figure size 432x288 with 1 Axes>"
      ]
     },
     "metadata": {
      "needs_background": "light"
     },
     "output_type": "display_data"
    }
   ],
   "source": [
    "import pandas as pd\n",
    "history_frame = pd.DataFrame(history.history)\n",
    "history_frame.loc[:, ['loss', 'val_loss']].plot()\n",
    "history_frame.loc[:, ['categorical_accuracy', 'val_categorical_accuracy']].plot()\n",
    "plt.ylim([0.95, 1.01])"
   ]
  },
  {
   "cell_type": "code",
   "execution_count": 15,
   "metadata": {},
   "outputs": [
    {
     "name": "stdout",
     "output_type": "stream",
     "text": [
      "WARNING:tensorflow:AutoGraph could not transform <function Model.make_predict_function.<locals>.predict_function at 0x7f85e01a8170> and will run it as-is.\n",
      "Please report this to the TensorFlow team. When filing the bug, set the verbosity to 10 (on Linux, `export AUTOGRAPH_VERBOSITY=10`) and attach the full output.\n",
      "Cause: 'arguments' object has no attribute 'posonlyargs'\n",
      "To silence this warning, decorate the function with @tf.autograph.experimental.do_not_convert\n",
      "WARNING: AutoGraph could not transform <function Model.make_predict_function.<locals>.predict_function at 0x7f85e01a8170> and will run it as-is.\n",
      "Please report this to the TensorFlow team. When filing the bug, set the verbosity to 10 (on Linux, `export AUTOGRAPH_VERBOSITY=10`) and attach the full output.\n",
      "Cause: 'arguments' object has no attribute 'posonlyargs'\n",
      "To silence this warning, decorate the function with @tf.autograph.experimental.do_not_convert\n"
     ]
    }
   ],
   "source": [
    "predictions = model.predict(test)"
   ]
  },
  {
   "cell_type": "code",
   "execution_count": 16,
   "metadata": {},
   "outputs": [],
   "source": [
    "predictions_cat = predictions.argmax(axis=1)"
   ]
  },
  {
   "cell_type": "code",
   "execution_count": 17,
   "metadata": {},
   "outputs": [
    {
     "data": {
      "text/plain": [
       "(28000,)"
      ]
     },
     "execution_count": 17,
     "metadata": {},
     "output_type": "execute_result"
    }
   ],
   "source": [
    "predictions_cat.shape"
   ]
  },
  {
   "cell_type": "code",
   "execution_count": null,
   "metadata": {},
   "outputs": [],
   "source": []
  },
  {
   "cell_type": "code",
   "execution_count": null,
   "metadata": {},
   "outputs": [],
   "source": []
  },
  {
   "cell_type": "code",
   "execution_count": 18,
   "metadata": {},
   "outputs": [
    {
     "data": {
      "text/plain": [
       "(28000, 2)"
      ]
     },
     "execution_count": 18,
     "metadata": {},
     "output_type": "execute_result"
    }
   ],
   "source": [
    "sub = pd.DataFrame({'ImageId': list(range(1, len(predictions_cat)+1)), 'Label': predictions_cat})\n",
    "sub.shape"
   ]
  },
  {
   "cell_type": "code",
   "execution_count": 19,
   "metadata": {},
   "outputs": [],
   "source": [
    "sub.to_csv(\"data/submission_script11_cnn.csv\", index=False)"
   ]
  },
  {
   "cell_type": "code",
   "execution_count": null,
   "metadata": {},
   "outputs": [],
   "source": []
  }
 ],
 "metadata": {
  "kernelspec": {
   "display_name": "Python 3",
   "language": "python",
   "name": "python3"
  },
  "language_info": {
   "codemirror_mode": {
    "name": "ipython",
    "version": 3
   },
   "file_extension": ".py",
   "mimetype": "text/x-python",
   "name": "python",
   "nbconvert_exporter": "python",
   "pygments_lexer": "ipython3",
   "version": "3.7.4"
  }
 },
 "nbformat": 4,
 "nbformat_minor": 2
}
