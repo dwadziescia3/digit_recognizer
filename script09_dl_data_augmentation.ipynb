{
 "cells": [
  {
   "cell_type": "markdown",
   "metadata": {},
   "source": [
    "This is the notebook of kaggle competition \"House Prices - Advanced Regression Techniques\"\n",
    "\n",
    "https://www.kaggle.com/c/house-prices-advanced-regression-techniques/overview/description"
   ]
  },
  {
   "cell_type": "code",
   "execution_count": 31,
   "metadata": {},
   "outputs": [
    {
     "name": "stdout",
     "output_type": "stream",
     "text": [
      "2.7.0\n",
      "2.7.0\n"
     ]
    }
   ],
   "source": [
    "import sys\n",
    "assert sys.version_info >= (3, 5)\n",
    "\n",
    "import sklearn\n",
    "assert sklearn.__version__ >= \"0.20\"\n",
    "\n",
    "import numpy as np\n",
    "import os\n",
    "\n",
    "import matplotlib as mpl\n",
    "import matplotlib.pyplot as plt\n",
    "mpl.rc('axes', labelsize=14)\n",
    "mpl.rc('xtick', labelsize=12)\n",
    "mpl.rc('ytick', labelsize=12)\n",
    "\n",
    "import warnings\n",
    "warnings.filterwarnings(action=\"ignore\", message=\"^internal gelsd\")\n",
    "\n",
    "import os, warnings\n",
    "import matplotlib.pyplot as plt\n",
    "from matplotlib import gridspec\n",
    "\n",
    "import numpy as np\n",
    "import tensorflow as tf\n",
    "from tensorflow import keras\n",
    "# from keras.utils import to_categorical\n",
    "from tensorflow.keras.utils import to_categorical\n",
    "from tensorflow.keras import layers\n",
    "print(keras.__version__)\n",
    "import tensorflow\n",
    "print(tensorflow.__version__)"
   ]
  },
  {
   "cell_type": "code",
   "execution_count": 32,
   "metadata": {},
   "outputs": [],
   "source": [
    "from tensorflow.keras.layers.experimental import preprocessing"
   ]
  },
  {
   "cell_type": "code",
   "execution_count": 33,
   "metadata": {},
   "outputs": [],
   "source": [
    "import pandas as pd\n",
    "\n",
    "def load_digits_data(digits_path='data'):\n",
    "    train_csv_path = os.path.join(digits_path, \"train.csv\")\n",
    "    test_csv_path = os.path.join(digits_path, \"test.csv\")\n",
    "    return pd.read_csv(train_csv_path), pd.read_csv(test_csv_path)\n",
    "\n",
    "train, test = load_digits_data()"
   ]
  },
  {
   "cell_type": "code",
   "execution_count": 34,
   "metadata": {},
   "outputs": [],
   "source": [
    "num_classes = 10\n",
    "input_shape = (28, 28, 1)"
   ]
  },
  {
   "cell_type": "code",
   "execution_count": 35,
   "metadata": {},
   "outputs": [],
   "source": [
    "y_train = train['label']"
   ]
  },
  {
   "cell_type": "code",
   "execution_count": 36,
   "metadata": {},
   "outputs": [],
   "source": [
    "from sklearn.preprocessing import StandardScaler\n",
    "scaler = StandardScaler()\n",
    "X_train = train.iloc[:, 1:]\n",
    "X_train_scaled = scaler.fit_transform(X_train.astype(np.float64))\n",
    "train = X_train_scaled.reshape(X_train_scaled.shape[0],28,28,1)\n",
    "test_scaled = scaler.transform(test.astype(np.float64))\n",
    "test = test_scaled.reshape(test_scaled.shape[0],28,28,1)"
   ]
  },
  {
   "cell_type": "code",
   "execution_count": null,
   "metadata": {},
   "outputs": [],
   "source": []
  },
  {
   "cell_type": "code",
   "execution_count": 37,
   "metadata": {},
   "outputs": [],
   "source": [
    "y_binary = to_categorical(y_train.values)"
   ]
  },
  {
   "cell_type": "code",
   "execution_count": null,
   "metadata": {},
   "outputs": [],
   "source": []
  },
  {
   "cell_type": "code",
   "execution_count": null,
   "metadata": {},
   "outputs": [],
   "source": []
  },
  {
   "cell_type": "code",
   "execution_count": 68,
   "metadata": {},
   "outputs": [],
   "source": [
    "model = keras.Sequential([\n",
    "    layers.InputLayer(input_shape=[28, 28, 1]),\n",
    "    \n",
    "#     preprocessing.RandomContrast(factor=0.10),\n",
    "#     preprocessing.RandomFlip(mode='horizontal'),\n",
    "    preprocessing.RandomRotation(factor=0.10),\n",
    "    \n",
    "    # Block One\n",
    "    layers.Conv2D(filters=32, kernel_size=3, activation='relu', padding='same',\n",
    "                  input_shape=[28, 28, 1]),\n",
    "    layers.MaxPool2D(),\n",
    "\n",
    "    # Block Two\n",
    "    layers.Conv2D(filters=64, kernel_size=3, activation='relu', padding='same'),\n",
    "    layers.MaxPool2D(),\n",
    "\n",
    "    # Block Three\n",
    "    layers.Conv2D(filters=128, kernel_size=3, activation='relu', padding='same'),\n",
    "    layers.Conv2D(filters=128, kernel_size=3, activation='relu', padding='same'),\n",
    "    layers.MaxPool2D(),\n",
    "\n",
    "    # Head\n",
    "    layers.Flatten(),\n",
    "    layers.Dense(50, activation='relu'),\n",
    "    layers.Dropout(0.5),\n",
    "    layers.Dense(num_classes, activation='softmax'),\n",
    "])\n"
   ]
  },
  {
   "cell_type": "code",
   "execution_count": 69,
   "metadata": {},
   "outputs": [
    {
     "name": "stdout",
     "output_type": "stream",
     "text": [
      "Model: \"sequential_8\"\n",
      "_________________________________________________________________\n",
      " Layer (type)                Output Shape              Param #   \n",
      "=================================================================\n",
      " random_rotation_6 (RandomRo  (None, 28, 28, 1)        0         \n",
      " tation)                                                         \n",
      "                                                                 \n",
      " conv2d_24 (Conv2D)          (None, 28, 28, 32)        320       \n",
      "                                                                 \n",
      " max_pooling2d_18 (MaxPoolin  (None, 14, 14, 32)       0         \n",
      " g2D)                                                            \n",
      "                                                                 \n",
      " conv2d_25 (Conv2D)          (None, 14, 14, 64)        18496     \n",
      "                                                                 \n",
      " max_pooling2d_19 (MaxPoolin  (None, 7, 7, 64)         0         \n",
      " g2D)                                                            \n",
      "                                                                 \n",
      " conv2d_26 (Conv2D)          (None, 7, 7, 128)         73856     \n",
      "                                                                 \n",
      " conv2d_27 (Conv2D)          (None, 7, 7, 128)         147584    \n",
      "                                                                 \n",
      " max_pooling2d_20 (MaxPoolin  (None, 3, 3, 128)        0         \n",
      " g2D)                                                            \n",
      "                                                                 \n",
      " flatten_6 (Flatten)         (None, 1152)              0         \n",
      "                                                                 \n",
      " dense_12 (Dense)            (None, 50)                57650     \n",
      "                                                                 \n",
      " dropout_6 (Dropout)         (None, 50)                0         \n",
      "                                                                 \n",
      " dense_13 (Dense)            (None, 10)                510       \n",
      "                                                                 \n",
      "=================================================================\n",
      "Total params: 298,416\n",
      "Trainable params: 298,416\n",
      "Non-trainable params: 0\n",
      "_________________________________________________________________\n"
     ]
    }
   ],
   "source": [
    "model.summary()"
   ]
  },
  {
   "cell_type": "code",
   "execution_count": 70,
   "metadata": {},
   "outputs": [],
   "source": [
    "model.compile(\n",
    "    optimizer=tf.keras.optimizers.Adam(epsilon=0.01),\n",
    "    loss='categorical_crossentropy',\n",
    "    metrics=['categorical_accuracy'],\n",
    ")"
   ]
  },
  {
   "cell_type": "code",
   "execution_count": 71,
   "metadata": {},
   "outputs": [
    {
     "name": "stdout",
     "output_type": "stream",
     "text": [
      "Epoch 1/50\n",
      "WARNING:tensorflow:AutoGraph could not transform <function Model.make_train_function.<locals>.train_function at 0x7ff34c248e60> and will run it as-is.\n",
      "Please report this to the TensorFlow team. When filing the bug, set the verbosity to 10 (on Linux, `export AUTOGRAPH_VERBOSITY=10`) and attach the full output.\n",
      "Cause: 'arguments' object has no attribute 'posonlyargs'\n",
      "To silence this warning, decorate the function with @tf.autograph.experimental.do_not_convert\n",
      "WARNING: AutoGraph could not transform <function Model.make_train_function.<locals>.train_function at 0x7ff34c248e60> and will run it as-is.\n",
      "Please report this to the TensorFlow team. When filing the bug, set the verbosity to 10 (on Linux, `export AUTOGRAPH_VERBOSITY=10`) and attach the full output.\n",
      "Cause: 'arguments' object has no attribute 'posonlyargs'\n",
      "To silence this warning, decorate the function with @tf.autograph.experimental.do_not_convert\n",
      "295/296 [============================>.] - ETA: 0s - loss: 1.7236 - categorical_accuracy: 0.4067WARNING:tensorflow:AutoGraph could not transform <function Model.make_test_function.<locals>.test_function at 0x7ff34c2480e0> and will run it as-is.\n",
      "Please report this to the TensorFlow team. When filing the bug, set the verbosity to 10 (on Linux, `export AUTOGRAPH_VERBOSITY=10`) and attach the full output.\n",
      "Cause: 'arguments' object has no attribute 'posonlyargs'\n",
      "To silence this warning, decorate the function with @tf.autograph.experimental.do_not_convert\n",
      "WARNING: AutoGraph could not transform <function Model.make_test_function.<locals>.test_function at 0x7ff34c2480e0> and will run it as-is.\n",
      "Please report this to the TensorFlow team. When filing the bug, set the verbosity to 10 (on Linux, `export AUTOGRAPH_VERBOSITY=10`) and attach the full output.\n",
      "Cause: 'arguments' object has no attribute 'posonlyargs'\n",
      "To silence this warning, decorate the function with @tf.autograph.experimental.do_not_convert\n",
      "296/296 [==============================] - 20s 65ms/step - loss: 1.7230 - categorical_accuracy: 0.4070 - val_loss: 0.4820 - val_categorical_accuracy: 0.8669\n",
      "Epoch 2/50\n",
      "296/296 [==============================] - 20s 66ms/step - loss: 0.6589 - categorical_accuracy: 0.7888 - val_loss: 0.1840 - val_categorical_accuracy: 0.9431\n",
      "Epoch 3/50\n",
      "296/296 [==============================] - 20s 68ms/step - loss: 0.4246 - categorical_accuracy: 0.8696 - val_loss: 0.1336 - val_categorical_accuracy: 0.9550\n",
      "Epoch 4/50\n",
      "296/296 [==============================] - 19s 63ms/step - loss: 0.3181 - categorical_accuracy: 0.9039 - val_loss: 0.1019 - val_categorical_accuracy: 0.9667\n",
      "Epoch 5/50\n",
      "296/296 [==============================] - 20s 69ms/step - loss: 0.2553 - categorical_accuracy: 0.9245 - val_loss: 0.0717 - val_categorical_accuracy: 0.9760\n",
      "Epoch 6/50\n",
      "296/296 [==============================] - 21s 71ms/step - loss: 0.2070 - categorical_accuracy: 0.9385 - val_loss: 0.0724 - val_categorical_accuracy: 0.9767\n",
      "Epoch 7/50\n",
      "296/296 [==============================] - 22s 73ms/step - loss: 0.1845 - categorical_accuracy: 0.9459 - val_loss: 0.0568 - val_categorical_accuracy: 0.9795\n",
      "Epoch 8/50\n",
      "296/296 [==============================] - 22s 74ms/step - loss: 0.1611 - categorical_accuracy: 0.9523 - val_loss: 0.0520 - val_categorical_accuracy: 0.9821\n",
      "Epoch 9/50\n",
      "296/296 [==============================] - 20s 66ms/step - loss: 0.1395 - categorical_accuracy: 0.9594 - val_loss: 0.0454 - val_categorical_accuracy: 0.9840\n",
      "Epoch 10/50\n",
      "296/296 [==============================] - 21s 69ms/step - loss: 0.1293 - categorical_accuracy: 0.9624 - val_loss: 0.0417 - val_categorical_accuracy: 0.9869\n",
      "Epoch 11/50\n",
      "296/296 [==============================] - 22s 73ms/step - loss: 0.1143 - categorical_accuracy: 0.9659 - val_loss: 0.0459 - val_categorical_accuracy: 0.9840\n",
      "Epoch 12/50\n",
      "296/296 [==============================] - 21s 70ms/step - loss: 0.1076 - categorical_accuracy: 0.9676 - val_loss: 0.0442 - val_categorical_accuracy: 0.9860\n",
      "Epoch 13/50\n",
      "296/296 [==============================] - 20s 68ms/step - loss: 0.1000 - categorical_accuracy: 0.9712 - val_loss: 0.0423 - val_categorical_accuracy: 0.9855\n",
      "Epoch 14/50\n",
      "296/296 [==============================] - 20s 67ms/step - loss: 0.0965 - categorical_accuracy: 0.9723 - val_loss: 0.0365 - val_categorical_accuracy: 0.9886\n",
      "Epoch 15/50\n",
      "296/296 [==============================] - 20s 68ms/step - loss: 0.0933 - categorical_accuracy: 0.9731 - val_loss: 0.0291 - val_categorical_accuracy: 0.9900\n",
      "Epoch 16/50\n",
      "296/296 [==============================] - 20s 68ms/step - loss: 0.0889 - categorical_accuracy: 0.9757 - val_loss: 0.0340 - val_categorical_accuracy: 0.9886\n",
      "Epoch 17/50\n",
      "296/296 [==============================] - 20s 68ms/step - loss: 0.0831 - categorical_accuracy: 0.9759 - val_loss: 0.0342 - val_categorical_accuracy: 0.9890\n",
      "Epoch 18/50\n",
      "296/296 [==============================] - 20s 68ms/step - loss: 0.0760 - categorical_accuracy: 0.9779 - val_loss: 0.0366 - val_categorical_accuracy: 0.9879\n",
      "Epoch 19/50\n",
      "296/296 [==============================] - 19s 65ms/step - loss: 0.0725 - categorical_accuracy: 0.9778 - val_loss: 0.0331 - val_categorical_accuracy: 0.9886\n",
      "Epoch 20/50\n",
      "296/296 [==============================] - 19s 64ms/step - loss: 0.0752 - categorical_accuracy: 0.9787 - val_loss: 0.0318 - val_categorical_accuracy: 0.9890\n",
      "Epoch 21/50\n",
      "296/296 [==============================] - 20s 66ms/step - loss: 0.0683 - categorical_accuracy: 0.9799 - val_loss: 0.0248 - val_categorical_accuracy: 0.9902\n",
      "Epoch 22/50\n",
      "296/296 [==============================] - 19s 65ms/step - loss: 0.0654 - categorical_accuracy: 0.9811 - val_loss: 0.0252 - val_categorical_accuracy: 0.9926\n",
      "Epoch 23/50\n",
      "296/296 [==============================] - 20s 68ms/step - loss: 0.0632 - categorical_accuracy: 0.9811 - val_loss: 0.0280 - val_categorical_accuracy: 0.9883\n",
      "Epoch 24/50\n",
      "296/296 [==============================] - 20s 66ms/step - loss: 0.0630 - categorical_accuracy: 0.9812 - val_loss: 0.0288 - val_categorical_accuracy: 0.9910\n",
      "Epoch 25/50\n",
      "296/296 [==============================] - 37s 124ms/step - loss: 0.0568 - categorical_accuracy: 0.9831 - val_loss: 0.0281 - val_categorical_accuracy: 0.9912\n",
      "Epoch 26/50\n",
      "296/296 [==============================] - 50s 167ms/step - loss: 0.0551 - categorical_accuracy: 0.9836 - val_loss: 0.0243 - val_categorical_accuracy: 0.9921\n",
      "Epoch 27/50\n",
      "296/296 [==============================] - 19s 64ms/step - loss: 0.0548 - categorical_accuracy: 0.9837 - val_loss: 0.0259 - val_categorical_accuracy: 0.9921\n",
      "Epoch 28/50\n",
      "296/296 [==============================] - 19s 63ms/step - loss: 0.0554 - categorical_accuracy: 0.9846 - val_loss: 0.0260 - val_categorical_accuracy: 0.9924\n",
      "Epoch 29/50\n",
      "296/296 [==============================] - 19s 66ms/step - loss: 0.0522 - categorical_accuracy: 0.9842 - val_loss: 0.0270 - val_categorical_accuracy: 0.9919\n",
      "Epoch 30/50\n",
      "296/296 [==============================] - 21s 70ms/step - loss: 0.0487 - categorical_accuracy: 0.9846 - val_loss: 0.0265 - val_categorical_accuracy: 0.9898\n",
      "Epoch 31/50\n",
      "296/296 [==============================] - 22s 74ms/step - loss: 0.0482 - categorical_accuracy: 0.9851 - val_loss: 0.0265 - val_categorical_accuracy: 0.9910\n",
      "Epoch 32/50\n",
      "296/296 [==============================] - 42s 142ms/step - loss: 0.0448 - categorical_accuracy: 0.9863 - val_loss: 0.0301 - val_categorical_accuracy: 0.9910\n",
      "Epoch 33/50\n",
      "296/296 [==============================] - 31s 105ms/step - loss: 0.0442 - categorical_accuracy: 0.9872 - val_loss: 0.0288 - val_categorical_accuracy: 0.9910\n",
      "Epoch 34/50\n",
      "296/296 [==============================] - 20s 68ms/step - loss: 0.0452 - categorical_accuracy: 0.9864 - val_loss: 0.0236 - val_categorical_accuracy: 0.9921\n",
      "Epoch 35/50\n",
      "296/296 [==============================] - 22s 74ms/step - loss: 0.0409 - categorical_accuracy: 0.9878 - val_loss: 0.0241 - val_categorical_accuracy: 0.9919\n",
      "Epoch 36/50\n",
      "296/296 [==============================] - 20s 68ms/step - loss: 0.0420 - categorical_accuracy: 0.9871 - val_loss: 0.0201 - val_categorical_accuracy: 0.9940\n",
      "Epoch 37/50\n",
      "296/296 [==============================] - 21s 71ms/step - loss: 0.0395 - categorical_accuracy: 0.9873 - val_loss: 0.0241 - val_categorical_accuracy: 0.9921\n",
      "Epoch 38/50\n"
     ]
    },
    {
     "name": "stdout",
     "output_type": "stream",
     "text": [
      "296/296 [==============================] - 47s 160ms/step - loss: 0.0409 - categorical_accuracy: 0.9876 - val_loss: 0.0260 - val_categorical_accuracy: 0.9917\n",
      "Epoch 39/50\n",
      "296/296 [==============================] - 19s 66ms/step - loss: 0.0396 - categorical_accuracy: 0.9883 - val_loss: 0.0246 - val_categorical_accuracy: 0.9933\n",
      "Epoch 40/50\n",
      "296/296 [==============================] - 20s 67ms/step - loss: 0.0361 - categorical_accuracy: 0.9890 - val_loss: 0.0249 - val_categorical_accuracy: 0.9924\n",
      "Epoch 41/50\n",
      "296/296 [==============================] - 19s 66ms/step - loss: 0.0352 - categorical_accuracy: 0.9896 - val_loss: 0.0254 - val_categorical_accuracy: 0.9917\n",
      "Epoch 42/50\n",
      "296/296 [==============================] - 20s 67ms/step - loss: 0.0365 - categorical_accuracy: 0.9887 - val_loss: 0.0230 - val_categorical_accuracy: 0.9926\n",
      "Epoch 43/50\n",
      "296/296 [==============================] - 30s 102ms/step - loss: 0.0377 - categorical_accuracy: 0.9890 - val_loss: 0.0246 - val_categorical_accuracy: 0.9924\n",
      "Epoch 44/50\n",
      "296/296 [==============================] - 40s 134ms/step - loss: 0.0332 - categorical_accuracy: 0.9899 - val_loss: 0.0252 - val_categorical_accuracy: 0.9938\n",
      "Epoch 45/50\n",
      "296/296 [==============================] - 20s 67ms/step - loss: 0.0322 - categorical_accuracy: 0.9898 - val_loss: 0.0244 - val_categorical_accuracy: 0.9919\n",
      "Epoch 46/50\n",
      "296/296 [==============================] - 20s 68ms/step - loss: 0.0311 - categorical_accuracy: 0.9902 - val_loss: 0.0246 - val_categorical_accuracy: 0.9943\n",
      "Epoch 47/50\n",
      "296/296 [==============================] - 20s 66ms/step - loss: 0.0311 - categorical_accuracy: 0.9906 - val_loss: 0.0286 - val_categorical_accuracy: 0.9910\n",
      "Epoch 48/50\n",
      "296/296 [==============================] - 20s 67ms/step - loss: 0.0300 - categorical_accuracy: 0.9901 - val_loss: 0.0233 - val_categorical_accuracy: 0.9933\n",
      "Epoch 49/50\n",
      "296/296 [==============================] - 48s 163ms/step - loss: 0.0304 - categorical_accuracy: 0.9906 - val_loss: 0.0264 - val_categorical_accuracy: 0.9924\n",
      "Epoch 50/50\n",
      "296/296 [==============================] - 25s 85ms/step - loss: 0.0305 - categorical_accuracy: 0.9910 - val_loss: 0.0286 - val_categorical_accuracy: 0.9907\n"
     ]
    }
   ],
   "source": [
    "batch_size = 128\n",
    "epochs = 50\n",
    "\n",
    "# model.compile(loss=\"categorical_crossentropy\", optimizer=\"adam\", metrics=[\"accuracy\"])\n",
    "\n",
    "history = model.fit(train, y_binary, batch_size=batch_size, epochs=epochs, validation_split=0.1)\n"
   ]
  },
  {
   "cell_type": "code",
   "execution_count": 72,
   "metadata": {},
   "outputs": [
    {
     "data": {
      "text/plain": [
       "<matplotlib.axes._subplots.AxesSubplot at 0x7ff324235090>"
      ]
     },
     "execution_count": 72,
     "metadata": {},
     "output_type": "execute_result"
    },
    {
     "data": {
      "image/png": "[encoded data removed]",
      "text/plain": [
       "<Figure size 432x288 with 1 Axes>"
      ]
     },
     "metadata": {
      "needs_background": "light"
     },
     "output_type": "display_data"
    },
    {
     "data": {
      "image/png": "[encoded data removed]",
      "text/plain": [
       "<Figure size 432x288 with 1 Axes>"
      ]
     },
     "metadata": {
      "needs_background": "light"
     },
     "output_type": "display_data"
    }
   ],
   "source": [
    "import pandas as pd\n",
    "history_frame = pd.DataFrame(history.history)\n",
    "history_frame.loc[:, ['loss', 'val_loss']].plot()\n",
    "history_frame.loc[:, ['categorical_accuracy', 'val_categorical_accuracy']].plot()"
   ]
  },
  {
   "cell_type": "code",
   "execution_count": 73,
   "metadata": {},
   "outputs": [
    {
     "name": "stdout",
     "output_type": "stream",
     "text": [
      "WARNING:tensorflow:AutoGraph could not transform <function Model.make_predict_function.<locals>.predict_function at 0x7ff3241ba560> and will run it as-is.\n",
      "Please report this to the TensorFlow team. When filing the bug, set the verbosity to 10 (on Linux, `export AUTOGRAPH_VERBOSITY=10`) and attach the full output.\n",
      "Cause: 'arguments' object has no attribute 'posonlyargs'\n",
      "To silence this warning, decorate the function with @tf.autograph.experimental.do_not_convert\n",
      "WARNING: AutoGraph could not transform <function Model.make_predict_function.<locals>.predict_function at 0x7ff3241ba560> and will run it as-is.\n",
      "Please report this to the TensorFlow team. When filing the bug, set the verbosity to 10 (on Linux, `export AUTOGRAPH_VERBOSITY=10`) and attach the full output.\n",
      "Cause: 'arguments' object has no attribute 'posonlyargs'\n",
      "To silence this warning, decorate the function with @tf.autograph.experimental.do_not_convert\n"
     ]
    }
   ],
   "source": [
    "predictions = model.predict(test)"
   ]
  },
  {
   "cell_type": "code",
   "execution_count": 74,
   "metadata": {},
   "outputs": [],
   "source": [
    "predictions_cat = predictions.argmax(axis=1)"
   ]
  },
  {
   "cell_type": "code",
   "execution_count": 75,
   "metadata": {},
   "outputs": [
    {
     "data": {
      "text/plain": [
       "(28000,)"
      ]
     },
     "execution_count": 75,
     "metadata": {},
     "output_type": "execute_result"
    }
   ],
   "source": [
    "predictions_cat.shape"
   ]
  },
  {
   "cell_type": "code",
   "execution_count": null,
   "metadata": {},
   "outputs": [],
   "source": []
  },
  {
   "cell_type": "code",
   "execution_count": null,
   "metadata": {},
   "outputs": [],
   "source": []
  },
  {
   "cell_type": "code",
   "execution_count": 76,
   "metadata": {},
   "outputs": [
    {
     "data": {
      "text/plain": [
       "(28000, 2)"
      ]
     },
     "execution_count": 76,
     "metadata": {},
     "output_type": "execute_result"
    }
   ],
   "source": [
    "sub = pd.DataFrame({'ImageId': list(range(1, len(predictions_cat)+1)), 'Label': predictions_cat})\n",
    "sub.shape"
   ]
  },
  {
   "cell_type": "code",
   "execution_count": 77,
   "metadata": {},
   "outputs": [],
   "source": [
    "sub.to_csv(\"data/submission_script09_dl_data_augmentation_2.csv\", index=False)"
   ]
  },
  {
   "cell_type": "code",
   "execution_count": null,
   "metadata": {},
   "outputs": [],
   "source": []
  }
 ],
 "metadata": {
  "kernelspec": {
   "display_name": "Python 3",
   "language": "python",
   "name": "python3"
  },
  "language_info": {
   "codemirror_mode": {
    "name": "ipython",
    "version": 3
   },
   "file_extension": ".py",
   "mimetype": "text/x-python",
   "name": "python",
   "nbconvert_exporter": "python",
   "pygments_lexer": "ipython3",
   "version": "3.7.4"
  }
 },
 "nbformat": 4,
 "nbformat_minor": 2
}
