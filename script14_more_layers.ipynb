{
 "cells": [
  {
   "cell_type": "markdown",
   "metadata": {},
   "source": [
    "This is the notebook of kaggle competition \"House Prices - Advanced Regression Techniques\"\n",
    "\n",
    "https://www.kaggle.com/c/house-prices-advanced-regression-techniques/overview/description"
   ]
  },
  {
   "cell_type": "code",
   "execution_count": 1,
   "metadata": {},
   "outputs": [
    {
     "name": "stdout",
     "output_type": "stream",
     "text": [
      "2.7.0\n",
      "2.7.0\n"
     ]
    }
   ],
   "source": [
    "import sys\n",
    "assert sys.version_info >= (3, 5)\n",
    "\n",
    "import sklearn\n",
    "assert sklearn.__version__ >= \"0.20\"\n",
    "\n",
    "import numpy as np\n",
    "import os\n",
    "\n",
    "import matplotlib as mpl\n",
    "import matplotlib.pyplot as plt\n",
    "mpl.rc('axes', labelsize=14)\n",
    "mpl.rc('xtick', labelsize=12)\n",
    "mpl.rc('ytick', labelsize=12)\n",
    "\n",
    "import warnings\n",
    "warnings.filterwarnings(action=\"ignore\", message=\"^internal gelsd\")\n",
    "\n",
    "import os, warnings\n",
    "import matplotlib.pyplot as plt\n",
    "from matplotlib import gridspec\n",
    "\n",
    "import numpy as np\n",
    "import tensorflow as tf\n",
    "from tensorflow import keras\n",
    "# from keras.utils import to_categorical\n",
    "from tensorflow.keras.utils import to_categorical\n",
    "from tensorflow.keras import layers\n",
    "print(keras.__version__)\n",
    "import tensorflow\n",
    "print(tensorflow.__version__)"
   ]
  },
  {
   "cell_type": "code",
   "execution_count": 2,
   "metadata": {},
   "outputs": [],
   "source": [
    "from tensorflow.keras.layers.experimental import preprocessing"
   ]
  },
  {
   "cell_type": "code",
   "execution_count": 3,
   "metadata": {},
   "outputs": [],
   "source": [
    "import pandas as pd\n",
    "\n",
    "def load_digits_data(digits_path='data'):\n",
    "    train_csv_path = os.path.join(digits_path, \"train.csv\")\n",
    "    test_csv_path = os.path.join(digits_path, \"test.csv\")\n",
    "    return pd.read_csv(train_csv_path), pd.read_csv(test_csv_path)\n",
    "\n",
    "train, test = load_digits_data()"
   ]
  },
  {
   "cell_type": "code",
   "execution_count": 4,
   "metadata": {},
   "outputs": [],
   "source": [
    "num_classes = 10\n",
    "input_shape = (28, 28, 1)"
   ]
  },
  {
   "cell_type": "code",
   "execution_count": 5,
   "metadata": {},
   "outputs": [],
   "source": [
    "y_train = train['label']"
   ]
  },
  {
   "cell_type": "code",
   "execution_count": 6,
   "metadata": {},
   "outputs": [],
   "source": [
    "from sklearn.preprocessing import StandardScaler\n",
    "scaler = StandardScaler()\n",
    "X_train = train.iloc[:, 1:]\n",
    "X_train_scaled = scaler.fit_transform(X_train.astype(np.float64))\n",
    "train = X_train_scaled.reshape(X_train_scaled.shape[0],28,28,1)\n",
    "test_scaled = scaler.transform(test.astype(np.float64))\n",
    "test = test_scaled.reshape(test_scaled.shape[0],28,28,1)"
   ]
  },
  {
   "cell_type": "code",
   "execution_count": null,
   "metadata": {},
   "outputs": [],
   "source": []
  },
  {
   "cell_type": "code",
   "execution_count": 7,
   "metadata": {},
   "outputs": [],
   "source": [
    "train_aug = np.zeros((train.shape[0]*2, train.shape[1], train.shape[2], train.shape[3]))"
   ]
  },
  {
   "cell_type": "code",
   "execution_count": 8,
   "metadata": {},
   "outputs": [],
   "source": [
    "train_aug[:train.shape[0],:,:,:] = train.copy()"
   ]
  },
  {
   "cell_type": "code",
   "execution_count": null,
   "metadata": {},
   "outputs": [],
   "source": []
  },
  {
   "cell_type": "code",
   "execution_count": 9,
   "metadata": {},
   "outputs": [],
   "source": [
    "data_augmentation = tf.keras.Sequential([\n",
    "#   layers.RandomFlip(\"horizontal_and_vertical\"),\n",
    "  layers.RandomRotation(0.1),\n",
    "])"
   ]
  },
  {
   "cell_type": "code",
   "execution_count": 10,
   "metadata": {},
   "outputs": [],
   "source": [
    "# plt.figure(figsize=(10, 10))\n",
    "for i in range(train.shape[0]):\n",
    "    augmented_image = data_augmentation(train[i])\n",
    "#     ax = plt.subplot(3, 3, i + 1)\n",
    "#     plt.imshow(augmented_image[0])\n",
    "#     plt.imshow(augmented_image[:,:,0], cmap=mpl.cm.binary)\n",
    "#     plt.imshow(train[0, :, :, 0], cmap=mpl.cm.binary)\n",
    "#     plt.axis(\"off\")\n",
    "#     print(augmented_image.shape)\n",
    "#     print(type(augmented_image))\n",
    "#     print(type(train))\n",
    "#     print(i)\n",
    "    train_aug[train.shape[0]+i,:,:,:] = augmented_image.numpy().reshape((1,28,28,1)).copy()\n",
    "#     train_aug = np.concatenate((train_aug, augmented_image.numpy().reshape((1,28,28,1))), axis=0)\n",
    "    "
   ]
  },
  {
   "cell_type": "code",
   "execution_count": 11,
   "metadata": {},
   "outputs": [
    {
     "data": {
      "text/plain": [
       "(84000, 28, 28, 1)"
      ]
     },
     "execution_count": 11,
     "metadata": {},
     "output_type": "execute_result"
    }
   ],
   "source": [
    "train_aug.shape"
   ]
  },
  {
   "cell_type": "code",
   "execution_count": 12,
   "metadata": {},
   "outputs": [],
   "source": [
    "# plt.imshow(train_aug[83999, :, :, 0], cmap=mpl.cm.binary)\n",
    "# plt.imshow(train_aug[41999, :, :, 0], cmap=mpl.cm.binary)"
   ]
  },
  {
   "cell_type": "code",
   "execution_count": null,
   "metadata": {},
   "outputs": [],
   "source": []
  },
  {
   "cell_type": "code",
   "execution_count": 13,
   "metadata": {},
   "outputs": [],
   "source": [
    "y_train = pd.concat([y_train, y_train], axis=0, ignore_index=True)"
   ]
  },
  {
   "cell_type": "code",
   "execution_count": 14,
   "metadata": {},
   "outputs": [
    {
     "data": {
      "text/plain": [
       "83995    0\n",
       "83996    1\n",
       "83997    7\n",
       "83998    6\n",
       "83999    9\n",
       "Name: label, dtype: int64"
      ]
     },
     "execution_count": 14,
     "metadata": {},
     "output_type": "execute_result"
    }
   ],
   "source": [
    "y_train.tail()"
   ]
  },
  {
   "cell_type": "code",
   "execution_count": 15,
   "metadata": {},
   "outputs": [],
   "source": [
    "y_binary = to_categorical(y_train.values)"
   ]
  },
  {
   "cell_type": "code",
   "execution_count": 16,
   "metadata": {},
   "outputs": [
    {
     "data": {
      "text/plain": [
       "(84000, 28, 28, 1)"
      ]
     },
     "execution_count": 16,
     "metadata": {},
     "output_type": "execute_result"
    }
   ],
   "source": [
    "train_aug.shape"
   ]
  },
  {
   "cell_type": "code",
   "execution_count": 17,
   "metadata": {},
   "outputs": [
    {
     "data": {
      "text/plain": [
       "(84000, 10)"
      ]
     },
     "execution_count": 17,
     "metadata": {},
     "output_type": "execute_result"
    }
   ],
   "source": [
    "y_binary.shape"
   ]
  },
  {
   "cell_type": "code",
   "execution_count": null,
   "metadata": {},
   "outputs": [],
   "source": []
  },
  {
   "cell_type": "code",
   "execution_count": 19,
   "metadata": {},
   "outputs": [],
   "source": [
    "model = keras.Sequential([\n",
    "    layers.InputLayer(input_shape=[28, 28, 1]),\n",
    "    \n",
    "#     preprocessing.RandomContrast(factor=0.10),\n",
    "#     preprocessing.RandomFlip(mode='horizontal'),\n",
    "#     preprocessing.RandomRotation(factor=0.10),\n",
    "    \n",
    "    # Block One\n",
    "    layers.Conv2D(filters=32, kernel_size=3, activation='relu', padding='same',\n",
    "                  input_shape=[28, 28, 1]),\n",
    "    layers.Conv2D(filters=32, kernel_size=3, activation='relu', padding='same'),\n",
    "    layers.MaxPool2D(),\n",
    "\n",
    "    # Block Two\n",
    "    layers.Conv2D(filters=64, kernel_size=3, activation='relu', padding='same'),\n",
    "    layers.Conv2D(filters=64, kernel_size=3, activation='relu', padding='same'),\n",
    "    layers.MaxPool2D(),\n",
    "\n",
    "    # Block Three\n",
    "    layers.Conv2D(filters=128, kernel_size=3, activation='relu', padding='same'),\n",
    "    layers.Conv2D(filters=128, kernel_size=3, activation='relu', padding='same'),\n",
    "    layers.MaxPool2D(),\n",
    "\n",
    "        # Block Three\n",
    "    layers.Conv2D(filters=128, kernel_size=3, activation='relu', padding='same'),\n",
    "    layers.Conv2D(filters=128, kernel_size=3, activation='relu', padding='same'),\n",
    "    layers.MaxPool2D(),\n",
    "\n",
    "    # Head\n",
    "    layers.Flatten(),\n",
    "    layers.Dense(256, activation='relu'),\n",
    "    layers.Dropout(0.5),\n",
    "    layers.Dense(num_classes, activation='softmax'),\n",
    "])\n"
   ]
  },
  {
   "cell_type": "code",
   "execution_count": 20,
   "metadata": {},
   "outputs": [
    {
     "name": "stdout",
     "output_type": "stream",
     "text": [
      "Model: \"sequential_2\"\n",
      "_________________________________________________________________\n",
      " Layer (type)                Output Shape              Param #   \n",
      "=================================================================\n",
      " conv2d_8 (Conv2D)           (None, 28, 28, 32)        320       \n",
      "                                                                 \n",
      " conv2d_9 (Conv2D)           (None, 28, 28, 32)        9248      \n",
      "                                                                 \n",
      " max_pooling2d_4 (MaxPooling  (None, 14, 14, 32)       0         \n",
      " 2D)                                                             \n",
      "                                                                 \n",
      " conv2d_10 (Conv2D)          (None, 14, 14, 64)        18496     \n",
      "                                                                 \n",
      " conv2d_11 (Conv2D)          (None, 14, 14, 64)        36928     \n",
      "                                                                 \n",
      " max_pooling2d_5 (MaxPooling  (None, 7, 7, 64)         0         \n",
      " 2D)                                                             \n",
      "                                                                 \n",
      " conv2d_12 (Conv2D)          (None, 7, 7, 128)         73856     \n",
      "                                                                 \n",
      " conv2d_13 (Conv2D)          (None, 7, 7, 128)         147584    \n",
      "                                                                 \n",
      " max_pooling2d_6 (MaxPooling  (None, 3, 3, 128)        0         \n",
      " 2D)                                                             \n",
      "                                                                 \n",
      " conv2d_14 (Conv2D)          (None, 3, 3, 128)         147584    \n",
      "                                                                 \n",
      " conv2d_15 (Conv2D)          (None, 3, 3, 128)         147584    \n",
      "                                                                 \n",
      " max_pooling2d_7 (MaxPooling  (None, 1, 1, 128)        0         \n",
      " 2D)                                                             \n",
      "                                                                 \n",
      " flatten_1 (Flatten)         (None, 128)               0         \n",
      "                                                                 \n",
      " dense_2 (Dense)             (None, 256)               33024     \n",
      "                                                                 \n",
      " dropout_1 (Dropout)         (None, 256)               0         \n",
      "                                                                 \n",
      " dense_3 (Dense)             (None, 10)                2570      \n",
      "                                                                 \n",
      "=================================================================\n",
      "Total params: 617,194\n",
      "Trainable params: 617,194\n",
      "Non-trainable params: 0\n",
      "_________________________________________________________________\n"
     ]
    }
   ],
   "source": [
    "model.summary()"
   ]
  },
  {
   "cell_type": "code",
   "execution_count": 21,
   "metadata": {},
   "outputs": [],
   "source": [
    "model.compile(\n",
    "    optimizer=tf.keras.optimizers.Adam(epsilon=0.01),\n",
    "    loss='categorical_crossentropy',\n",
    "    metrics=['categorical_accuracy'],\n",
    ")"
   ]
  },
  {
   "cell_type": "code",
   "execution_count": 22,
   "metadata": {},
   "outputs": [],
   "source": [
    "from keras.callbacks import EarlyStopping\n",
    "\n",
    "early_stopping = EarlyStopping(min_delta=0.001, patience=5, restore_best_weights=True)"
   ]
  },
  {
   "cell_type": "code",
   "execution_count": 23,
   "metadata": {
    "scrolled": true
   },
   "outputs": [
    {
     "name": "stdout",
     "output_type": "stream",
     "text": [
      "Epoch 1/50\n",
      "WARNING:tensorflow:AutoGraph could not transform <function Model.make_train_function.<locals>.train_function at 0x7f5890093f80> and will run it as-is.\n",
      "Please report this to the TensorFlow team. When filing the bug, set the verbosity to 10 (on Linux, `export AUTOGRAPH_VERBOSITY=10`) and attach the full output.\n",
      "Cause: 'arguments' object has no attribute 'posonlyargs'\n",
      "To silence this warning, decorate the function with @tf.autograph.experimental.do_not_convert\n",
      "WARNING: AutoGraph could not transform <function Model.make_train_function.<locals>.train_function at 0x7f5890093f80> and will run it as-is.\n",
      "Please report this to the TensorFlow team. When filing the bug, set the verbosity to 10 (on Linux, `export AUTOGRAPH_VERBOSITY=10`) and attach the full output.\n",
      "Cause: 'arguments' object has no attribute 'posonlyargs'\n",
      "To silence this warning, decorate the function with @tf.autograph.experimental.do_not_convert\n",
      "591/591 [==============================] - ETA: 0s - loss: 1.2382 - categorical_accuracy: 0.5826WARNING:tensorflow:AutoGraph could not transform <function Model.make_test_function.<locals>.test_function at 0x7f587c0c4440> and will run it as-is.\n",
      "Please report this to the TensorFlow team. When filing the bug, set the verbosity to 10 (on Linux, `export AUTOGRAPH_VERBOSITY=10`) and attach the full output.\n",
      "Cause: 'arguments' object has no attribute 'posonlyargs'\n",
      "To silence this warning, decorate the function with @tf.autograph.experimental.do_not_convert\n",
      "WARNING: AutoGraph could not transform <function Model.make_test_function.<locals>.test_function at 0x7f587c0c4440> and will run it as-is.\n",
      "Please report this to the TensorFlow team. When filing the bug, set the verbosity to 10 (on Linux, `export AUTOGRAPH_VERBOSITY=10`) and attach the full output.\n",
      "Cause: 'arguments' object has no attribute 'posonlyargs'\n",
      "To silence this warning, decorate the function with @tf.autograph.experimental.do_not_convert\n",
      "591/591 [==============================] - 80s 135ms/step - loss: 1.2382 - categorical_accuracy: 0.5826 - val_loss: 0.2857 - val_categorical_accuracy: 0.9135\n",
      "Epoch 2/50\n",
      "591/591 [==============================] - 88s 149ms/step - loss: 0.1803 - categorical_accuracy: 0.9448 - val_loss: 0.1510 - val_categorical_accuracy: 0.9546\n",
      "Epoch 3/50\n",
      "591/591 [==============================] - 89s 150ms/step - loss: 0.1010 - categorical_accuracy: 0.9695 - val_loss: 0.1057 - val_categorical_accuracy: 0.9686\n",
      "Epoch 4/50\n",
      "591/591 [==============================] - 89s 150ms/step - loss: 0.0687 - categorical_accuracy: 0.9803 - val_loss: 0.0770 - val_categorical_accuracy: 0.9730\n",
      "Epoch 5/50\n",
      "591/591 [==============================] - 90s 152ms/step - loss: 0.0507 - categorical_accuracy: 0.9848 - val_loss: 0.0596 - val_categorical_accuracy: 0.9812\n",
      "Epoch 6/50\n",
      "591/591 [==============================] - 86s 145ms/step - loss: 0.0399 - categorical_accuracy: 0.9881 - val_loss: 0.0631 - val_categorical_accuracy: 0.9787\n",
      "Epoch 7/50\n",
      "591/591 [==============================] - 85s 145ms/step - loss: 0.0303 - categorical_accuracy: 0.9909 - val_loss: 0.0492 - val_categorical_accuracy: 0.9837\n",
      "Epoch 8/50\n",
      "591/591 [==============================] - 80s 135ms/step - loss: 0.0219 - categorical_accuracy: 0.9930 - val_loss: 0.0681 - val_categorical_accuracy: 0.9807\n",
      "Epoch 9/50\n",
      "591/591 [==============================] - 78s 132ms/step - loss: 0.0186 - categorical_accuracy: 0.9940 - val_loss: 0.0532 - val_categorical_accuracy: 0.9865\n",
      "Epoch 10/50\n",
      "591/591 [==============================] - 78s 133ms/step - loss: 0.0167 - categorical_accuracy: 0.9944 - val_loss: 0.0500 - val_categorical_accuracy: 0.9854\n",
      "Epoch 11/50\n",
      "591/591 [==============================] - 78s 131ms/step - loss: 0.0130 - categorical_accuracy: 0.9960 - val_loss: 0.0494 - val_categorical_accuracy: 0.9858\n",
      "Epoch 12/50\n",
      "591/591 [==============================] - 78s 132ms/step - loss: 0.0108 - categorical_accuracy: 0.9966 - val_loss: 0.0444 - val_categorical_accuracy: 0.9875\n",
      "Epoch 13/50\n",
      "591/591 [==============================] - 78s 131ms/step - loss: 0.0089 - categorical_accuracy: 0.9970 - val_loss: 0.0553 - val_categorical_accuracy: 0.9867\n",
      "Epoch 14/50\n",
      "591/591 [==============================] - 77s 131ms/step - loss: 0.0094 - categorical_accuracy: 0.9970 - val_loss: 0.0508 - val_categorical_accuracy: 0.9867\n",
      "Epoch 15/50\n",
      "591/591 [==============================] - 77s 131ms/step - loss: 0.0070 - categorical_accuracy: 0.9978 - val_loss: 0.0519 - val_categorical_accuracy: 0.9862\n",
      "Epoch 16/50\n",
      "591/591 [==============================] - 77s 131ms/step - loss: 0.0062 - categorical_accuracy: 0.9980 - val_loss: 0.0515 - val_categorical_accuracy: 0.9857\n",
      "Epoch 17/50\n",
      "591/591 [==============================] - 78s 131ms/step - loss: 0.0068 - categorical_accuracy: 0.9980 - val_loss: 0.0483 - val_categorical_accuracy: 0.9883\n",
      "Epoch 18/50\n",
      "591/591 [==============================] - 77s 131ms/step - loss: 0.0064 - categorical_accuracy: 0.9981 - val_loss: 0.0593 - val_categorical_accuracy: 0.9867\n",
      "Epoch 19/50\n",
      "591/591 [==============================] - 78s 131ms/step - loss: 0.0042 - categorical_accuracy: 0.9987 - val_loss: 0.0516 - val_categorical_accuracy: 0.9874\n",
      "Epoch 20/50\n",
      "591/591 [==============================] - 77s 131ms/step - loss: 0.0047 - categorical_accuracy: 0.9986 - val_loss: 0.0766 - val_categorical_accuracy: 0.9838\n",
      "Epoch 21/50\n",
      "591/591 [==============================] - 78s 132ms/step - loss: 0.0046 - categorical_accuracy: 0.9984 - val_loss: 0.0561 - val_categorical_accuracy: 0.9875\n",
      "Epoch 22/50\n",
      "591/591 [==============================] - 78s 131ms/step - loss: 0.0028 - categorical_accuracy: 0.9992 - val_loss: 0.0565 - val_categorical_accuracy: 0.9894\n",
      "Epoch 23/50\n",
      "591/591 [==============================] - 78s 131ms/step - loss: 0.0043 - categorical_accuracy: 0.9986 - val_loss: 0.0584 - val_categorical_accuracy: 0.9883\n",
      "Epoch 24/50\n",
      "591/591 [==============================] - 78s 132ms/step - loss: 0.0015 - categorical_accuracy: 0.9996 - val_loss: 0.0537 - val_categorical_accuracy: 0.9894\n",
      "Epoch 25/50\n",
      "591/591 [==============================] - 78s 131ms/step - loss: 0.0031 - categorical_accuracy: 0.9989 - val_loss: 0.0538 - val_categorical_accuracy: 0.9888\n",
      "Epoch 26/50\n",
      "591/591 [==============================] - 77s 131ms/step - loss: 0.0032 - categorical_accuracy: 0.9990 - val_loss: 0.0474 - val_categorical_accuracy: 0.9894\n",
      "Epoch 27/50\n",
      "591/591 [==============================] - 78s 132ms/step - loss: 0.0020 - categorical_accuracy: 0.9995 - val_loss: 0.0520 - val_categorical_accuracy: 0.9883\n",
      "Epoch 28/50\n",
      "591/591 [==============================] - 79s 134ms/step - loss: 0.0013 - categorical_accuracy: 0.9997 - val_loss: 0.0534 - val_categorical_accuracy: 0.9895\n",
      "Epoch 29/50\n",
      "591/591 [==============================] - 130s 221ms/step - loss: 0.0014 - categorical_accuracy: 0.9996 - val_loss: 0.0498 - val_categorical_accuracy: 0.9905\n",
      "Epoch 30/50\n",
      "591/591 [==============================] - 93s 157ms/step - loss: 0.0011 - categorical_accuracy: 0.9996 - val_loss: 0.0517 - val_categorical_accuracy: 0.9912\n",
      "Epoch 31/50\n",
      "591/591 [==============================] - 103s 174ms/step - loss: 0.0019 - categorical_accuracy: 0.9995 - val_loss: 0.0655 - val_categorical_accuracy: 0.9867\n",
      "Epoch 32/50\n",
      "591/591 [==============================] - 115s 195ms/step - loss: 0.0030 - categorical_accuracy: 0.9991 - val_loss: 0.0482 - val_categorical_accuracy: 0.9902\n",
      "Epoch 33/50\n",
      "591/591 [==============================] - 87s 147ms/step - loss: 0.0029 - categorical_accuracy: 0.9991 - val_loss: 0.0521 - val_categorical_accuracy: 0.9893\n",
      "Epoch 34/50\n",
      "591/591 [==============================] - 111s 188ms/step - loss: 0.0022 - categorical_accuracy: 0.9993 - val_loss: 0.0535 - val_categorical_accuracy: 0.9883\n",
      "Epoch 35/50\n",
      "591/591 [==============================] - 90s 153ms/step - loss: 3.9227e-04 - categorical_accuracy: 0.9999 - val_loss: 0.0576 - val_categorical_accuracy: 0.9896\n",
      "Epoch 36/50\n",
      "591/591 [==============================] - 91s 155ms/step - loss: 1.1942e-04 - categorical_accuracy: 1.0000 - val_loss: 0.0606 - val_categorical_accuracy: 0.9898\n",
      "Epoch 37/50\n",
      "591/591 [==============================] - 99s 167ms/step - loss: 5.0907e-04 - categorical_accuracy: 0.9998 - val_loss: 0.0634 - val_categorical_accuracy: 0.9889\n"
     ]
    },
    {
     "name": "stdout",
     "output_type": "stream",
     "text": [
      "Epoch 38/50\n",
      "591/591 [==============================] - 79s 134ms/step - loss: 0.0017 - categorical_accuracy: 0.9994 - val_loss: 0.0560 - val_categorical_accuracy: 0.9883\n",
      "Epoch 39/50\n",
      "591/591 [==============================] - 80s 136ms/step - loss: 0.0020 - categorical_accuracy: 0.9994 - val_loss: 0.0481 - val_categorical_accuracy: 0.9905\n",
      "Epoch 40/50\n",
      "591/591 [==============================] - 86s 145ms/step - loss: 4.6451e-04 - categorical_accuracy: 0.9999 - val_loss: 0.0685 - val_categorical_accuracy: 0.9892\n",
      "Epoch 41/50\n",
      "591/591 [==============================] - 77s 131ms/step - loss: 3.7789e-04 - categorical_accuracy: 0.9999 - val_loss: 0.0607 - val_categorical_accuracy: 0.9896\n",
      "Epoch 42/50\n",
      "591/591 [==============================] - 97s 163ms/step - loss: 0.0012 - categorical_accuracy: 0.9997 - val_loss: 0.0611 - val_categorical_accuracy: 0.9860\n",
      "Epoch 43/50\n",
      "591/591 [==============================] - 77s 131ms/step - loss: 0.0018 - categorical_accuracy: 0.9994 - val_loss: 0.0506 - val_categorical_accuracy: 0.9904\n",
      "Epoch 44/50\n",
      "591/591 [==============================] - 82s 139ms/step - loss: 0.0021 - categorical_accuracy: 0.9995 - val_loss: 0.0603 - val_categorical_accuracy: 0.9868\n",
      "Epoch 45/50\n",
      "591/591 [==============================] - 87s 148ms/step - loss: 0.0027 - categorical_accuracy: 0.9991 - val_loss: 0.0568 - val_categorical_accuracy: 0.9893\n",
      "Epoch 46/50\n",
      "591/591 [==============================] - 78s 132ms/step - loss: 0.0012 - categorical_accuracy: 0.9997 - val_loss: 0.0551 - val_categorical_accuracy: 0.9889\n",
      "Epoch 47/50\n",
      "591/591 [==============================] - 91s 155ms/step - loss: 0.0012 - categorical_accuracy: 0.9996 - val_loss: 0.0640 - val_categorical_accuracy: 0.9890\n",
      "Epoch 48/50\n",
      "591/591 [==============================] - 78s 132ms/step - loss: 0.0011 - categorical_accuracy: 0.9996 - val_loss: 0.0643 - val_categorical_accuracy: 0.9900\n",
      "Epoch 49/50\n",
      "591/591 [==============================] - 102s 173ms/step - loss: 0.0013 - categorical_accuracy: 0.9996 - val_loss: 0.0528 - val_categorical_accuracy: 0.9887\n",
      "Epoch 50/50\n",
      "591/591 [==============================] - 82s 138ms/step - loss: 7.6227e-04 - categorical_accuracy: 0.9997 - val_loss: 0.0626 - val_categorical_accuracy: 0.9895\n"
     ]
    }
   ],
   "source": [
    "batch_size = 128\n",
    "epochs = 50\n",
    "\n",
    "# model.compile(loss=\"categorical_crossentropy\", optimizer=\"adam\", metrics=[\"accuracy\"])\n",
    "\n",
    "history = model.fit(train_aug, \n",
    "                    y_binary, \n",
    "                    batch_size=batch_size, \n",
    "                    epochs=epochs, \n",
    "#                     callbacks=[early_stopping], \n",
    "                    validation_split=0.1)\n"
   ]
  },
  {
   "cell_type": "code",
   "execution_count": 24,
   "metadata": {},
   "outputs": [
    {
     "data": {
      "text/plain": [
       "(0.95, 1.01)"
      ]
     },
     "execution_count": 24,
     "metadata": {},
     "output_type": "execute_result"
    },
    {
     "data": {
      "image/png": "[encoded data removed]",
      "text/plain": [
       "<Figure size 432x288 with 1 Axes>"
      ]
     },
     "metadata": {
      "needs_background": "light"
     },
     "output_type": "display_data"
    },
    {
     "data": {
      "image/png": "[encoded data removed]",
      "text/plain": [
       "<Figure size 432x288 with 1 Axes>"
      ]
     },
     "metadata": {
      "needs_background": "light"
     },
     "output_type": "display_data"
    }
   ],
   "source": [
    "import pandas as pd\n",
    "history_frame = pd.DataFrame(history.history)\n",
    "history_frame.loc[:, ['loss', 'val_loss']].plot()\n",
    "history_frame.loc[:, ['categorical_accuracy', 'val_categorical_accuracy']].plot()\n",
    "plt.ylim([0.95, 1.01])"
   ]
  },
  {
   "cell_type": "code",
   "execution_count": 25,
   "metadata": {},
   "outputs": [
    {
     "name": "stdout",
     "output_type": "stream",
     "text": [
      "WARNING:tensorflow:AutoGraph could not transform <function Model.make_predict_function.<locals>.predict_function at 0x7f58666f88c0> and will run it as-is.\n",
      "Please report this to the TensorFlow team. When filing the bug, set the verbosity to 10 (on Linux, `export AUTOGRAPH_VERBOSITY=10`) and attach the full output.\n",
      "Cause: 'arguments' object has no attribute 'posonlyargs'\n",
      "To silence this warning, decorate the function with @tf.autograph.experimental.do_not_convert\n",
      "WARNING: AutoGraph could not transform <function Model.make_predict_function.<locals>.predict_function at 0x7f58666f88c0> and will run it as-is.\n",
      "Please report this to the TensorFlow team. When filing the bug, set the verbosity to 10 (on Linux, `export AUTOGRAPH_VERBOSITY=10`) and attach the full output.\n",
      "Cause: 'arguments' object has no attribute 'posonlyargs'\n",
      "To silence this warning, decorate the function with @tf.autograph.experimental.do_not_convert\n"
     ]
    }
   ],
   "source": [
    "predictions = model.predict(test)"
   ]
  },
  {
   "cell_type": "code",
   "execution_count": 26,
   "metadata": {},
   "outputs": [],
   "source": [
    "predictions_cat = predictions.argmax(axis=1)"
   ]
  },
  {
   "cell_type": "code",
   "execution_count": 27,
   "metadata": {},
   "outputs": [
    {
     "data": {
      "text/plain": [
       "(28000,)"
      ]
     },
     "execution_count": 27,
     "metadata": {},
     "output_type": "execute_result"
    }
   ],
   "source": [
    "predictions_cat.shape"
   ]
  },
  {
   "cell_type": "code",
   "execution_count": null,
   "metadata": {},
   "outputs": [],
   "source": []
  },
  {
   "cell_type": "code",
   "execution_count": null,
   "metadata": {},
   "outputs": [],
   "source": []
  },
  {
   "cell_type": "code",
   "execution_count": 28,
   "metadata": {},
   "outputs": [
    {
     "data": {
      "text/plain": [
       "(28000, 2)"
      ]
     },
     "execution_count": 28,
     "metadata": {},
     "output_type": "execute_result"
    }
   ],
   "source": [
    "sub = pd.DataFrame({'ImageId': list(range(1, len(predictions_cat)+1)), 'Label': predictions_cat})\n",
    "sub.shape"
   ]
  },
  {
   "cell_type": "code",
   "execution_count": 29,
   "metadata": {},
   "outputs": [],
   "source": [
    "sub.to_csv(\"data/submission_script14.csv\", index=False)"
   ]
  },
  {
   "cell_type": "code",
   "execution_count": null,
   "metadata": {},
   "outputs": [],
   "source": []
  }
 ],
 "metadata": {
  "kernelspec": {
   "display_name": "Python 3",
   "language": "python",
   "name": "python3"
  },
  "language_info": {
   "codemirror_mode": {
    "name": "ipython",
    "version": 3
   },
   "file_extension": ".py",
   "mimetype": "text/x-python",
   "name": "python",
   "nbconvert_exporter": "python",
   "pygments_lexer": "ipython3",
   "version": "3.7.4"
  }
 },
 "nbformat": 4,
 "nbformat_minor": 2
}
